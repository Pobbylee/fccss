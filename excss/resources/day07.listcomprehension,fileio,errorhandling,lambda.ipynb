{
 "cells": [
  {
   "cell_type": "code",
   "execution_count": 1,
   "metadata": {
    "collapsed": false
   },
   "outputs": [
    {
     "data": {
      "text/plain": [
       "[2, 4, 6, 8, 10]"
      ]
     },
     "execution_count": 1,
     "metadata": {},
     "output_type": "execute_result"
    }
   ],
   "source": [
    "old_list = [1,2,3,4,5]\n",
    "doubled_list = []\n",
    "\n",
    "for element in old_list:\n",
    "    doubled_list.append(element * 2)"
   ]
  },
  {
   "cell_type": "code",
   "execution_count": 2,
   "metadata": {
    "collapsed": false
   },
   "outputs": [
    {
     "data": {
      "text/plain": [
       "[2, 4, 6, 8, 10]"
      ]
     },
     "execution_count": 2,
     "metadata": {},
     "output_type": "execute_result"
    }
   ],
   "source": [
    "doubled_list = [element * 2 for element in old_list]\n",
    "doubled_list"
   ]
  },
  {
   "cell_type": "code",
   "execution_count": 3,
   "metadata": {
    "collapsed": false
   },
   "outputs": [
    {
     "data": {
      "text/plain": [
       "[2, 4, 6, 8, 10]"
      ]
     },
     "execution_count": 3,
     "metadata": {},
     "output_type": "execute_result"
    }
   ],
   "source": [
    "doubled_list = [element * 2 for element in old_list]\n",
    "doubled_list"
   ]
  },
  {
   "cell_type": "code",
   "execution_count": 4,
   "metadata": {
    "collapsed": false
   },
   "outputs": [
    {
     "data": {
      "text/plain": [
       "[4, 8, 12, 16, 20]"
      ]
     },
     "execution_count": 4,
     "metadata": {},
     "output_type": "execute_result"
    }
   ],
   "source": [
    "old_list = [1,2,3,4,5,6,7,8,9,10]\n",
    "new_doubled_list = [] # ===(1)\n",
    "\n",
    "for element in old_list: # ===(3)\n",
    "    if element % 2 == 0: # ===(4)\n",
    "        new_doubled_list.append(element * 2) # ===(2)\n",
    "        \n",
    "new_doubled_list"
   ]
  },
  {
   "cell_type": "code",
   "execution_count": 5,
   "metadata": {
    "collapsed": false
   },
   "outputs": [
    {
     "data": {
      "text/plain": [
       "[4, 8, 12, 16, 20]"
      ]
     },
     "execution_count": 5,
     "metadata": {},
     "output_type": "execute_result"
    }
   ],
   "source": [
    "new_doubled_list = [element * 2 for element in old_list if element % 2 == 0]\n",
    "new_doubled_list"
   ]
  },
  {
   "cell_type": "code",
   "execution_count": 9,
   "metadata": {
    "collapsed": false
   },
   "outputs": [],
   "source": [
    "# for i in range(1, 100+1):\n",
    "#     fizzbuzz_int.append(i)\n",
    "\n",
    "fizzbuzz_int = [i for i in range(1,100+1)]\n",
    "fizzbuzz_list = []\n",
    "\n",
    "# 3의배수 -> \"fizz\", 5의배수 -> \"buzz\", 15의배수 -> \"fizzbuzz\", 나머지 -> 그 숫자\n",
    "for element in fizzbuzz_int:\n",
    "    if element % 15 == 0:\n",
    "        fizzbuzz_list.append(\"fizzbuzz\")\n",
    "    else:\n",
    "        if element % 3 == 0:\n",
    "            fizzbuzz_list.append(\"fizz\")\n",
    "        else:\n",
    "            if element % 5 == 0:\n",
    "                fizzbuzz_list.append(\"buzz\")\n",
    "            else:\n",
    "                fizzbuzz_list.append(element)"
   ]
  },
  {
   "cell_type": "code",
   "execution_count": 22,
   "metadata": {
    "collapsed": false
   },
   "outputs": [
    {
     "data": {
      "text/plain": [
       "[1,\n",
       " 2,\n",
       " 'fizz',\n",
       " 4,\n",
       " 'buzz',\n",
       " 'fizz',\n",
       " 7,\n",
       " 8,\n",
       " 'fizz',\n",
       " 'buzz',\n",
       " 11,\n",
       " 'fizz',\n",
       " 13,\n",
       " 14,\n",
       " 'fizzbuzz']"
      ]
     },
     "execution_count": 22,
     "metadata": {},
     "output_type": "execute_result"
    }
   ],
   "source": [
    "fizzbuzz_list = [\"fizzbuzz\" if element % 15 == 0\\\n",
    "                 else\\\n",
    "                 \"fizz\" if element % 3 == 0\\\n",
    "                 else\\\n",
    "                 \"buzz\" if element % 5 == 0\\\n",
    "                 else element\\\n",
    "                 \n",
    "                 for element in fizzbuzz_int]\n",
    "fizzbuzz_list[:15]"
   ]
  },
  {
   "cell_type": "code",
   "execution_count": 37,
   "metadata": {
    "collapsed": false
   },
   "outputs": [
    {
     "name": "stdout",
     "output_type": "stream",
     "text": [
      "fizz\n"
     ]
    },
    {
     "data": {
      "text/plain": [
       "'fizzbuzz'"
      ]
     },
     "execution_count": 37,
     "metadata": {},
     "output_type": "execute_result"
    }
   ],
   "source": [
    "print(\"fizz\"*True)\n",
    "\"fizz\"*False\n",
    "\"fizz\"+\"buzz\""
   ]
  },
  {
   "cell_type": "code",
   "execution_count": 16,
   "metadata": {
    "collapsed": false
   },
   "outputs": [
    {
     "name": "stdout",
     "output_type": "stream",
     "text": [
      "fizz\n"
     ]
    }
   ],
   "source": [
    "if True:\n",
    "    print(\"fizz\")"
   ]
  },
  {
   "cell_type": "code",
   "execution_count": 20,
   "metadata": {
    "collapsed": false
   },
   "outputs": [
    {
     "name": "stdout",
     "output_type": "stream",
     "text": [
      "True\n",
      "False\n"
     ]
    }
   ],
   "source": [
    "print(3 % 3 == 0)\n",
    "print(4 % 3 == 0)"
   ]
  },
  {
   "cell_type": "code",
   "execution_count": 32,
   "metadata": {
    "collapsed": false
   },
   "outputs": [
    {
     "data": {
      "text/plain": [
       "1"
      ]
     },
     "execution_count": 32,
     "metadata": {},
     "output_type": "execute_result"
    }
   ],
   "source": [
    "1*False or 1"
   ]
  },
  {
   "cell_type": "code",
   "execution_count": 39,
   "metadata": {
    "collapsed": false
   },
   "outputs": [
    {
     "data": {
      "text/plain": [
       "[1,\n",
       " 2,\n",
       " 'fizz',\n",
       " 4,\n",
       " 'buzz',\n",
       " 'fizz',\n",
       " 7,\n",
       " 8,\n",
       " 'fizz',\n",
       " 'buzz',\n",
       " 11,\n",
       " 'fizz',\n",
       " 13,\n",
       " 14,\n",
       " 'fizzbuzz']"
      ]
     },
     "execution_count": 39,
     "metadata": {},
     "output_type": "execute_result"
    }
   ],
   "source": [
    "int_list = [i for i in range(1,100+1)]\n",
    "result_list = [\"fizz\"*(i%3==0)+\"buzz\"*(i%5==0) or i for i in int_list]\n",
    "result_list[:15]"
   ]
  },
  {
   "cell_type": "code",
   "execution_count": 40,
   "metadata": {
    "collapsed": true
   },
   "outputs": [],
   "source": [
    "# csv -> comma spread values\n",
    "# id, name, password\n",
    "# tsv -> tab spread values(\\t)\n",
    "# id    name    password(visual)\n",
    "# id\\tname\\tpassword\\t"
   ]
  },
  {
   "cell_type": "code",
   "execution_count": 41,
   "metadata": {
    "collapsed": true
   },
   "outputs": [],
   "source": [
    "f = open('./sample.txt', 'w')\n",
    "f.write('Hello!!!')\n",
    "f.close()"
   ]
  },
  {
   "cell_type": "code",
   "execution_count": 42,
   "metadata": {
    "collapsed": true
   },
   "outputs": [],
   "source": [
    "f = open('./sample.txt', 'w')\n",
    "for i in range(1,10+1):\n",
    "    text = \"This is line no.{}\\n\".format(i)\n",
    "    f.write(text)\n",
    "f.close()"
   ]
  },
  {
   "cell_type": "code",
   "execution_count": 43,
   "metadata": {
    "collapsed": true
   },
   "outputs": [],
   "source": [
    "f = open('./sample.txt', 'a')\n",
    "for i in range(11,20+1):\n",
    "    text = \"This is new line no.{}\\n\".format(i)\n",
    "    f.write(text)\n",
    "f.close()"
   ]
  },
  {
   "cell_type": "code",
   "execution_count": 45,
   "metadata": {
    "collapsed": false
   },
   "outputs": [
    {
     "name": "stdout",
     "output_type": "stream",
     "text": [
      "This is line no.1\n",
      "\n"
     ]
    }
   ],
   "source": [
    "f = open('./sample.txt', 'r')\n",
    "text = f.readline()\n",
    "print(text)\n",
    "f.close()"
   ]
  },
  {
   "cell_type": "code",
   "execution_count": 47,
   "metadata": {
    "collapsed": false
   },
   "outputs": [
    {
     "name": "stdout",
     "output_type": "stream",
     "text": [
      "This is line no.1\n",
      "\n",
      "This is line no.2\n",
      "\n",
      "This is line no.3\n",
      "\n",
      "This is line no.4\n",
      "\n",
      "This is line no.5\n",
      "\n",
      "This is line no.6\n",
      "\n",
      "This is line no.7\n",
      "\n",
      "This is line no.8\n",
      "\n",
      "This is line no.9\n",
      "\n",
      "This is line no.10\n",
      "\n",
      "This is new line no.11\n",
      "\n",
      "This is new line no.12\n",
      "\n",
      "This is new line no.13\n",
      "\n",
      "This is new line no.14\n",
      "\n",
      "This is new line no.15\n",
      "\n",
      "This is new line no.16\n",
      "\n",
      "This is new line no.17\n",
      "\n",
      "This is new line no.18\n",
      "\n",
      "This is new line no.19\n",
      "\n",
      "This is new line no.20\n",
      "\n"
     ]
    }
   ],
   "source": [
    "f = open('./sample.txt', 'r')\n",
    "while True:\n",
    "    text = f.readline()\n",
    "    if not text:\n",
    "        break\n",
    "    else:\n",
    "        print(text)\n",
    "f.close()"
   ]
  },
  {
   "cell_type": "code",
   "execution_count": 49,
   "metadata": {
    "collapsed": false
   },
   "outputs": [
    {
     "name": "stdout",
     "output_type": "stream",
     "text": [
      "This is line no.1\n",
      "\n",
      "This is line no.2\n",
      "\n",
      "This is line no.3\n",
      "\n",
      "This is line no.4\n",
      "\n",
      "This is line no.5\n",
      "\n",
      "This is line no.6\n",
      "\n",
      "This is line no.7\n",
      "\n",
      "This is line no.8\n",
      "\n",
      "This is line no.9\n",
      "\n",
      "This is line no.10\n",
      "\n",
      "This is new line no.11\n",
      "\n",
      "This is new line no.12\n",
      "\n",
      "This is new line no.13\n",
      "\n",
      "This is new line no.14\n",
      "\n",
      "This is new line no.15\n",
      "\n",
      "This is new line no.16\n",
      "\n",
      "This is new line no.17\n",
      "\n",
      "This is new line no.18\n",
      "\n",
      "This is new line no.19\n",
      "\n",
      "This is new line no.20\n",
      "\n"
     ]
    }
   ],
   "source": [
    "f = open('./sample.txt', 'r')\n",
    "texts = f.readlines()\n",
    "for line in texts:\n",
    "    print(line)\n",
    "f.close()"
   ]
  },
  {
   "cell_type": "code",
   "execution_count": 51,
   "metadata": {
    "collapsed": false
   },
   "outputs": [
    {
     "name": "stdout",
     "output_type": "stream",
     "text": [
      "This is line no.1\n",
      "\n",
      "This is line no.2\n",
      "\n",
      "This is line no.3\n",
      "\n",
      "This is line no.4\n",
      "\n",
      "This is line no.5\n",
      "\n",
      "This is line no.6\n",
      "\n",
      "This is line no.7\n",
      "\n",
      "This is line no.8\n",
      "\n",
      "This is line no.9\n",
      "\n",
      "This is line no.10\n",
      "\n",
      "This is new line no.11\n",
      "\n",
      "This is new line no.12\n",
      "\n",
      "This is new line no.13\n",
      "\n",
      "This is new line no.14\n",
      "\n",
      "This is new line no.15\n",
      "\n",
      "This is new line no.16\n",
      "\n",
      "This is new line no.17\n",
      "\n",
      "This is new line no.18\n",
      "\n",
      "This is new line no.19\n",
      "\n",
      "This is new line no.20\n",
      "\n"
     ]
    }
   ],
   "source": [
    "with open('./sample.txt', 'r') as f:\n",
    "    for line in f.readlines():\n",
    "        print(line)"
   ]
  },
  {
   "cell_type": "code",
   "execution_count": null,
   "metadata": {
    "collapsed": true
   },
   "outputs": [],
   "source": [
    "try:\n",
    "    pass\n",
    "except:\n",
    "    pass"
   ]
  },
  {
   "cell_type": "code",
   "execution_count": 55,
   "metadata": {
    "collapsed": false
   },
   "outputs": [
    {
     "name": "stdout",
     "output_type": "stream",
     "text": [
      "Type number: 으하하\n"
     ]
    }
   ],
   "source": [
    "try:\n",
    "    num = int(input(\"Type number: \"))\n",
    "    print(num)\n",
    "except:\n",
    "    pass"
   ]
  },
  {
   "cell_type": "code",
   "execution_count": 59,
   "metadata": {
    "collapsed": false
   },
   "outputs": [
    {
     "name": "stdout",
     "output_type": "stream",
     "text": [
      "Type number: 으하하\n",
      "잘못 입력하셨습니다. 숫자만 입력해주세요\n",
      "Type number: 으하하\n"
     ]
    },
    {
     "ename": "ValueError",
     "evalue": "invalid literal for int() with base 10: '으하하'",
     "output_type": "error",
     "traceback": [
      "\u001b[0;31m---------------------------------------------------------------------------\u001b[0m",
      "\u001b[0;31mValueError\u001b[0m                                Traceback (most recent call last)",
      "\u001b[0;32m<ipython-input-59-35385fc94d1a>\u001b[0m in \u001b[0;36m<module>\u001b[0;34m()\u001b[0m\n\u001b[1;32m      2\u001b[0m     \u001b[0msome_input\u001b[0m \u001b[0;34m=\u001b[0m \u001b[0minput\u001b[0m\u001b[0;34m(\u001b[0m\u001b[0;34m\"Type number: \"\u001b[0m\u001b[0;34m)\u001b[0m\u001b[0;34m\u001b[0m\u001b[0m\n\u001b[0;32m----> 3\u001b[0;31m     \u001b[0mnum\u001b[0m \u001b[0;34m=\u001b[0m \u001b[0mint\u001b[0m\u001b[0;34m(\u001b[0m\u001b[0msome_input\u001b[0m\u001b[0;34m)\u001b[0m\u001b[0;34m\u001b[0m\u001b[0m\n\u001b[0m\u001b[1;32m      4\u001b[0m     \u001b[0mprint\u001b[0m\u001b[0;34m(\u001b[0m\u001b[0mnum\u001b[0m\u001b[0;34m)\u001b[0m\u001b[0;34m\u001b[0m\u001b[0m\n",
      "\u001b[0;31mValueError\u001b[0m: invalid literal for int() with base 10: '으하하'",
      "\nDuring handling of the above exception, another exception occurred:\n",
      "\u001b[0;31mValueError\u001b[0m                                Traceback (most recent call last)",
      "\u001b[0;32m<ipython-input-59-35385fc94d1a>\u001b[0m in \u001b[0;36m<module>\u001b[0;34m()\u001b[0m\n\u001b[1;32m      6\u001b[0m     \u001b[0mprint\u001b[0m\u001b[0;34m(\u001b[0m\u001b[0;34m\"잘못 입력하셨습니다. 숫자만 입력해주세요\"\u001b[0m\u001b[0;34m)\u001b[0m\u001b[0;34m\u001b[0m\u001b[0m\n\u001b[1;32m      7\u001b[0m     \u001b[0msome_input\u001b[0m \u001b[0;34m=\u001b[0m \u001b[0minput\u001b[0m\u001b[0;34m(\u001b[0m\u001b[0;34m\"Type number: \"\u001b[0m\u001b[0;34m)\u001b[0m\u001b[0;34m\u001b[0m\u001b[0m\n\u001b[0;32m----> 8\u001b[0;31m     \u001b[0mnum\u001b[0m \u001b[0;34m=\u001b[0m \u001b[0mint\u001b[0m\u001b[0;34m(\u001b[0m\u001b[0msome_input\u001b[0m\u001b[0;34m)\u001b[0m\u001b[0;34m\u001b[0m\u001b[0m\n\u001b[0m\u001b[1;32m      9\u001b[0m     \u001b[0mprint\u001b[0m\u001b[0;34m(\u001b[0m\u001b[0mnum\u001b[0m\u001b[0;34m)\u001b[0m\u001b[0;34m\u001b[0m\u001b[0m\n",
      "\u001b[0;31mValueError\u001b[0m: invalid literal for int() with base 10: '으하하'"
     ]
    }
   ],
   "source": [
    "try:\n",
    "    some_input = input(\"Type number: \")\n",
    "    num = int(some_input)\n",
    "    print(num)\n",
    "except:\n",
    "    print(\"잘못 입력하셨습니다. 숫자만 입력해주세요\")\n",
    "    "
   ]
  },
  {
   "cell_type": "code",
   "execution_count": 60,
   "metadata": {
    "collapsed": true
   },
   "outputs": [],
   "source": [
    "def get_integer():\n",
    "    try:\n",
    "        some_input = input(\"Type Number: \")\n",
    "        num = int(some_input)\n",
    "        print(num)\n",
    "    except:\n",
    "        print(\"잘못 입력하셨습니다. 숫자만 입력하세요\")\n",
    "        get_integer()"
   ]
  },
  {
   "cell_type": "code",
   "execution_count": 61,
   "metadata": {
    "collapsed": false
   },
   "outputs": [
    {
     "name": "stdout",
     "output_type": "stream",
     "text": [
      "Type Number: 으하하\n",
      "잘못 입력하셨습니다. 숫자만 입력하세요\n",
      "Type Number: 아니요\n",
      "잘못 입력하셨습니다. 숫자만 입력하세요\n",
      "Type Number: 그게아니고\n",
      "잘못 입력하셨습니다. 숫자만 입력하세요\n",
      "Type Number: 잠깐만\n",
      "잘못 입력하셨습니다. 숫자만 입력하세요\n",
      "Type Number: 이거 왜 안돼\n",
      "잘못 입력하셨습니다. 숫자만 입력하세요\n",
      "Type Number: 이럴수ㅏㄱ\n",
      "잘못 입력하셨습니다. 숫자만 입력하세요\n",
      "Type Number: 123\n",
      "123\n"
     ]
    }
   ],
   "source": [
    "get_integer()"
   ]
  },
  {
   "cell_type": "code",
   "execution_count": 66,
   "metadata": {
    "collapsed": false
   },
   "outputs": [
    {
     "ename": "SyntaxError",
     "evalue": "invalid syntax (<ipython-input-66-2a626a349767>, line 4)",
     "output_type": "error",
     "traceback": [
      "\u001b[0;36m  File \u001b[0;32m\"<ipython-input-66-2a626a349767>\"\u001b[0;36m, line \u001b[0;32m4\u001b[0m\n\u001b[0;31m    some_int some_string -\u001b[0m\n\u001b[0m                       ^\u001b[0m\n\u001b[0;31mSyntaxError\u001b[0m\u001b[0;31m:\u001b[0m invalid syntax\n"
     ]
    }
   ],
   "source": [
    "try:\n",
    "    some_string = input(\"Wow! >>\")\n",
    "    some_int = int(some_string)\n",
    "    some_int some_string -\n",
    "except ValueError as e:\n",
    "    print(\"I need INTEGER!!!!!!!!!!\")\n",
    "except SyntaxError as e:\n",
    "    print(\"SyntaxError appeared\")"
   ]
  },
  {
   "cell_type": "code",
   "execution_count": 68,
   "metadata": {
    "collapsed": false
   },
   "outputs": [
    {
     "name": "stdout",
     "output_type": "stream",
     "text": [
      "fastcampus\n",
      "I need 'QUOTED' string!\n",
      "\"fastcampus\"\n"
     ]
    }
   ],
   "source": [
    "try:\n",
    "    eval(input())\n",
    "except NameError:\n",
    "    print(\"I need 'QUOTED' string!\")\n",
    "    eval(input())"
   ]
  },
  {
   "cell_type": "code",
   "execution_count": 71,
   "metadata": {
    "collapsed": true
   },
   "outputs": [],
   "source": [
    "def get_summed_num(a):\n",
    "    result = a + 1\n",
    "    return result"
   ]
  },
  {
   "cell_type": "code",
   "execution_count": 72,
   "metadata": {
    "collapsed": false
   },
   "outputs": [],
   "source": [
    "ay_plus_one = lambda a:a+1"
   ]
  },
  {
   "cell_type": "code",
   "execution_count": 79,
   "metadata": {
    "collapsed": false
   },
   "outputs": [
    {
     "data": {
      "text/plain": [
       "(11, 12)"
      ]
     },
     "execution_count": 79,
     "metadata": {},
     "output_type": "execute_result"
    }
   ],
   "source": [
    "(lambda a,b : (a+1,b+1))(10,11)"
   ]
  },
  {
   "cell_type": "code",
   "execution_count": 80,
   "metadata": {
    "collapsed": false
   },
   "outputs": [
    {
     "data": {
      "text/plain": [
       "[1, 4, 9, 16]"
      ]
     },
     "execution_count": 80,
     "metadata": {},
     "output_type": "execute_result"
    }
   ],
   "source": [
    "num_list = [1,2,3,4]\n",
    "def get_squared_list(num_list):\n",
    "    result_list = []\n",
    "    for num in num_list:\n",
    "        result_list.append(num ** 2)\n",
    "    return result_list\n",
    "get_squared_list(num_list)"
   ]
  },
  {
   "cell_type": "code",
   "execution_count": 82,
   "metadata": {
    "collapsed": false
   },
   "outputs": [
    {
     "data": {
      "text/plain": [
       "[1, 4, 9, 16]"
      ]
     },
     "execution_count": 82,
     "metadata": {},
     "output_type": "execute_result"
    }
   ],
   "source": [
    "def squaring(num):\n",
    "    return num ** 2\n",
    "list(map(squaring, num_list))"
   ]
  },
  {
   "cell_type": "code",
   "execution_count": 84,
   "metadata": {
    "collapsed": false
   },
   "outputs": [
    {
     "data": {
      "text/plain": [
       "[1, 4, 9, 16]"
      ]
     },
     "execution_count": 84,
     "metadata": {},
     "output_type": "execute_result"
    }
   ],
   "source": [
    "list(map(lambda b:b**2, num_list))"
   ]
  },
  {
   "cell_type": "code",
   "execution_count": 87,
   "metadata": {
    "collapsed": false
   },
   "outputs": [
    {
     "name": "stdout",
     "output_type": "stream",
     "text": [
      "1\n"
     ]
    },
    {
     "data": {
      "text/plain": [
       "'1'"
      ]
     },
     "execution_count": 87,
     "metadata": {},
     "output_type": "execute_result"
    }
   ],
   "source": [
    "input(\"\")"
   ]
  },
  {
   "cell_type": "code",
   "execution_count": 88,
   "metadata": {
    "collapsed": false
   },
   "outputs": [
    {
     "name": "stdout",
     "output_type": "stream",
     "text": [
      "hello\n"
     ]
    }
   ],
   "source": [
    "print(\"hello\")"
   ]
  },
  {
   "cell_type": "code",
   "execution_count": 89,
   "metadata": {
    "collapsed": true
   },
   "outputs": [],
   "source": [
    "m = map(lambda a:a+1, [1,2,3,4,5])"
   ]
  },
  {
   "cell_type": "code",
   "execution_count": 95,
   "metadata": {
    "collapsed": false
   },
   "outputs": [
    {
     "data": {
      "text/plain": [
       "6"
      ]
     },
     "execution_count": 95,
     "metadata": {},
     "output_type": "execute_result"
    }
   ],
   "source": [
    "next(m)"
   ]
  },
  {
   "cell_type": "code",
   "execution_count": 96,
   "metadata": {
    "collapsed": false
   },
   "outputs": [
    {
     "data": {
      "text/plain": [
       "[2, 3, 4]"
      ]
     },
     "execution_count": 96,
     "metadata": {},
     "output_type": "execute_result"
    }
   ],
   "source": [
    "list(map(lambda a: a+1, [1,2,3]))"
   ]
  },
  {
   "cell_type": "code",
   "execution_count": 100,
   "metadata": {
    "collapsed": false
   },
   "outputs": [
    {
     "data": {
      "text/plain": [
       "[2,\n",
       " 4,\n",
       " 6,\n",
       " 8,\n",
       " 10,\n",
       " 12,\n",
       " 14,\n",
       " 16,\n",
       " 18,\n",
       " 20,\n",
       " 22,\n",
       " 24,\n",
       " 26,\n",
       " 28,\n",
       " 30,\n",
       " 32,\n",
       " 34,\n",
       " 36,\n",
       " 38,\n",
       " 40,\n",
       " 42,\n",
       " 44,\n",
       " 46,\n",
       " 48,\n",
       " 50,\n",
       " 52,\n",
       " 54,\n",
       " 56,\n",
       " 58,\n",
       " 60,\n",
       " 62,\n",
       " 64,\n",
       " 66,\n",
       " 68,\n",
       " 70,\n",
       " 72,\n",
       " 74,\n",
       " 76,\n",
       " 78,\n",
       " 80,\n",
       " 82,\n",
       " 84,\n",
       " 86,\n",
       " 88,\n",
       " 90,\n",
       " 92,\n",
       " 94,\n",
       " 96,\n",
       " 98,\n",
       " 100]"
      ]
     },
     "execution_count": 100,
     "metadata": {},
     "output_type": "execute_result"
    }
   ],
   "source": [
    "def even_selector(a):\n",
    "    if a % 2 == 0:\n",
    "        return True\n",
    "    else:\n",
    "        return False\n",
    "result = filter(even_selector, range(1,100+1))\n",
    "list(result)"
   ]
  },
  {
   "cell_type": "code",
   "execution_count": null,
   "metadata": {
    "collapsed": true
   },
   "outputs": [],
   "source": []
  }
 ],
 "metadata": {
  "kernelspec": {
   "display_name": "Python 3",
   "language": "python",
   "name": "python3"
  },
  "language_info": {
   "codemirror_mode": {
    "name": "ipython",
    "version": 3
   },
   "file_extension": ".py",
   "mimetype": "text/x-python",
   "name": "python",
   "nbconvert_exporter": "python",
   "pygments_lexer": "ipython3",
   "version": "3.6.0"
  }
 },
 "nbformat": 4,
 "nbformat_minor": 2
}
