{
 "cells": [
  {
   "cell_type": "markdown",
   "metadata": {},
   "source": [
    "## Review"
   ]
  },
  {
   "cell_type": "code",
   "execution_count": 1,
   "metadata": {
    "collapsed": true
   },
   "outputs": [],
   "source": [
    "some_list = []"
   ]
  },
  {
   "cell_type": "code",
   "execution_count": 2,
   "metadata": {
    "collapsed": true
   },
   "outputs": [],
   "source": [
    "another_list = [1,2,3,4]"
   ]
  },
  {
   "cell_type": "code",
   "execution_count": 3,
   "metadata": {
    "collapsed": false
   },
   "outputs": [
    {
     "data": {
      "text/plain": [
       "[1]"
      ]
     },
     "execution_count": 3,
     "metadata": {},
     "output_type": "execute_result"
    }
   ],
   "source": [
    "some_list.append(1)\n",
    "some_list"
   ]
  },
  {
   "cell_type": "code",
   "execution_count": 4,
   "metadata": {
    "collapsed": false
   },
   "outputs": [
    {
     "data": {
      "text/plain": [
       "[]"
      ]
     },
     "execution_count": 4,
     "metadata": {},
     "output_type": "execute_result"
    }
   ],
   "source": [
    "some_list.remove(1)\n",
    "some_list"
   ]
  },
  {
   "cell_type": "code",
   "execution_count": 5,
   "metadata": {
    "collapsed": false
   },
   "outputs": [
    {
     "data": {
      "text/plain": [
       "[1, 2, 'Hi', 3, 4]"
      ]
     },
     "execution_count": 5,
     "metadata": {},
     "output_type": "execute_result"
    }
   ],
   "source": [
    "another_list.insert(2, \"Hi\")\n",
    "another_list"
   ]
  },
  {
   "cell_type": "code",
   "execution_count": 6,
   "metadata": {
    "collapsed": false
   },
   "outputs": [
    {
     "data": {
      "text/plain": [
       "4"
      ]
     },
     "execution_count": 6,
     "metadata": {},
     "output_type": "execute_result"
    }
   ],
   "source": [
    "popped_value = another_list.pop()\n",
    "popped_value"
   ]
  },
  {
   "cell_type": "code",
   "execution_count": 8,
   "metadata": {
    "collapsed": false
   },
   "outputs": [
    {
     "data": {
      "text/plain": [
       "'Hi'"
      ]
     },
     "execution_count": 8,
     "metadata": {},
     "output_type": "execute_result"
    }
   ],
   "source": [
    "another_list.pop(2)"
   ]
  },
  {
   "cell_type": "code",
   "execution_count": 7,
   "metadata": {
    "collapsed": false
   },
   "outputs": [
    {
     "ename": "AttributeError",
     "evalue": "'tuple' object has no attribute 'append'",
     "output_type": "error",
     "traceback": [
      "\u001b[0;31m----------------------------------------------------------------------\u001b[0m",
      "\u001b[0;31mAttributeError\u001b[0m                       Traceback (most recent call last)",
      "\u001b[0;32m<ipython-input-7-c1bd89b9ef3c>\u001b[0m in \u001b[0;36m<module>\u001b[0;34m()\u001b[0m\n\u001b[1;32m      1\u001b[0m \u001b[0museless_tuple\u001b[0m \u001b[0;34m=\u001b[0m \u001b[0;34m(\u001b[0m\u001b[0;34m)\u001b[0m\u001b[0;34m\u001b[0m\u001b[0m\n\u001b[0;32m----> 2\u001b[0;31m \u001b[0museless_tuple\u001b[0m\u001b[0;34m.\u001b[0m\u001b[0mappend\u001b[0m\u001b[0;34m(\u001b[0m\u001b[0;36m1\u001b[0m\u001b[0;34m)\u001b[0m\u001b[0;34m\u001b[0m\u001b[0m\n\u001b[0m",
      "\u001b[0;31mAttributeError\u001b[0m: 'tuple' object has no attribute 'append'"
     ]
    }
   ],
   "source": [
    "useless_tuple = ()\n",
    "useless_tuple.append(1)"
   ]
  },
  {
   "cell_type": "code",
   "execution_count": 10,
   "metadata": {
    "collapsed": false
   },
   "outputs": [
    {
     "data": {
      "text/plain": [
       "(1,)"
      ]
     },
     "execution_count": 10,
     "metadata": {},
     "output_type": "execute_result"
    }
   ],
   "source": [
    "useful_list = list(useless_tuple)\n",
    "useful_list.append(1)\n",
    "tuple(useful_list)"
   ]
  },
  {
   "cell_type": "code",
   "execution_count": 11,
   "metadata": {
    "collapsed": false
   },
   "outputs": [
    {
     "name": "stdout",
     "output_type": "stream",
     "text": [
      "hi\n"
     ]
    }
   ],
   "source": [
    "cash = 5000\n",
    "if True:\n",
    "    print(\"hi\")"
   ]
  },
  {
   "cell_type": "code",
   "execution_count": 16,
   "metadata": {
    "collapsed": false
   },
   "outputs": [
    {
     "name": "stdout",
     "output_type": "stream",
     "text": [
      "Go to Bobjib\n"
     ]
    }
   ],
   "source": [
    "if cash < 4000:\n",
    "    print(\"Go to CVS\")\n",
    "elif credit_card > 10000:\n",
    "    print(\"Go to Mcdonald\")\n",
    "else:\n",
    "    print(\"Go to Bobjib\")"
   ]
  },
  {
   "cell_type": "markdown",
   "metadata": {},
   "source": [
    "## Dictionary"
   ]
  },
  {
   "cell_type": "code",
   "execution_count": 18,
   "metadata": {
    "collapsed": false
   },
   "outputs": [
    {
     "data": {
      "text/plain": [
       "{'name': 'Gil-dong, Hong'}"
      ]
     },
     "execution_count": 18,
     "metadata": {},
     "output_type": "execute_result"
    }
   ],
   "source": [
    "# dict()\n",
    "dict1 = {'name':'Gil-dong, Hong'}\n",
    "dict1"
   ]
  },
  {
   "cell_type": "code",
   "execution_count": 19,
   "metadata": {
    "collapsed": false
   },
   "outputs": [
    {
     "data": {
      "text/plain": [
       "'Gil-dong, Hong'"
      ]
     },
     "execution_count": 19,
     "metadata": {},
     "output_type": "execute_result"
    }
   ],
   "source": [
    "dict1['name']"
   ]
  },
  {
   "cell_type": "code",
   "execution_count": 20,
   "metadata": {
    "collapsed": false
   },
   "outputs": [
    {
     "data": {
      "text/plain": [
       "{'gwatam': [20, 45, 30, 50, 10], 'name': 'Gil-dong, Hong'}"
      ]
     },
     "execution_count": 20,
     "metadata": {},
     "output_type": "execute_result"
    }
   ],
   "source": [
    "dict1['gwatam'] = [20,45,30,50,10]\n",
    "dict1"
   ]
  },
  {
   "cell_type": "code",
   "execution_count": 21,
   "metadata": {
    "collapsed": false
   },
   "outputs": [
    {
     "data": {
      "text/plain": [
       "{'English': 78,\n",
       " 'Korean': 10,\n",
       " 'Math': 100,\n",
       " 'gwatam': [20, 45, 30, 50, 10],\n",
       " 'name': 'Gil-dong, Hong'}"
      ]
     },
     "execution_count": 21,
     "metadata": {},
     "output_type": "execute_result"
    }
   ],
   "source": [
    "# Korean, Math, English\n",
    "dict1['Korean'] = 10\n",
    "dict1['Math'] = 100\n",
    "dict1['English'] = 78\n",
    "dict1"
   ]
  },
  {
   "cell_type": "code",
   "execution_count": 22,
   "metadata": {
    "collapsed": false
   },
   "outputs": [
    {
     "data": {
      "text/plain": [
       "{'Coding': 'C complete',\n",
       " 'English': 78,\n",
       " 'Ethics': True,\n",
       " 'Korean': 10,\n",
       " 'Math': 100,\n",
       " 'gwatam': [20, 45, 30, 50, 10],\n",
       " 'name': 'Gil-dong, Hong'}"
      ]
     },
     "execution_count": 22,
     "metadata": {},
     "output_type": "execute_result"
    }
   ],
   "source": [
    "dict1[\"Ethics\"] = True\n",
    "dict1[\"Coding\"] = \"C complete\"\n",
    "dict1"
   ]
  },
  {
   "cell_type": "code",
   "execution_count": 23,
   "metadata": {
    "collapsed": false
   },
   "outputs": [
    {
     "data": {
      "text/plain": [
       "{'Coding': 'C complete',\n",
       " 'English': 78,\n",
       " 'Ethics': False,\n",
       " 'Korean': 10,\n",
       " 'Math': 100,\n",
       " 'gwatam': [20, 45, 30, 50, 10],\n",
       " 'name': 'Gil-dong, Hong'}"
      ]
     },
     "execution_count": 23,
     "metadata": {},
     "output_type": "execute_result"
    }
   ],
   "source": [
    "dict1[\"Ethics\"] = False\n",
    "dict1"
   ]
  },
  {
   "cell_type": "code",
   "execution_count": 24,
   "metadata": {
    "collapsed": false
   },
   "outputs": [
    {
     "data": {
      "text/plain": [
       "{'English': 78,\n",
       " 'Ethics': False,\n",
       " 'Korean': 10,\n",
       " 'Math': 100,\n",
       " 'gwatam': [20, 45, 30, 50, 10],\n",
       " 'name': 'Gil-dong, Hong'}"
      ]
     },
     "execution_count": 24,
     "metadata": {},
     "output_type": "execute_result"
    }
   ],
   "source": [
    "del dict1[\"Coding\"]\n",
    "dict1"
   ]
  },
  {
   "cell_type": "code",
   "execution_count": 26,
   "metadata": {
    "collapsed": false
   },
   "outputs": [
    {
     "data": {
      "text/plain": [
       "10"
      ]
     },
     "execution_count": 26,
     "metadata": {},
     "output_type": "execute_result"
    }
   ],
   "source": [
    "dict1['gwatam'].pop()"
   ]
  },
  {
   "cell_type": "code",
   "execution_count": 27,
   "metadata": {
    "collapsed": false
   },
   "outputs": [
    {
     "data": {
      "text/plain": [
       "{'English': 78,\n",
       " 'Ethics': False,\n",
       " 'Korean': 10,\n",
       " 'Math': 100,\n",
       " 'gwatam': [20, 45, 30, 50],\n",
       " 'name': 'Gil-dong, Hong'}"
      ]
     },
     "execution_count": 27,
     "metadata": {},
     "output_type": "execute_result"
    }
   ],
   "source": [
    "dict1"
   ]
  },
  {
   "cell_type": "code",
   "execution_count": 34,
   "metadata": {
    "collapsed": false
   },
   "outputs": [
    {
     "data": {
      "text/plain": [
       "dict_keys(['name', 'gwatam', 'Korean', 'Math', 'English', 'Ethics'])"
      ]
     },
     "execution_count": 34,
     "metadata": {},
     "output_type": "execute_result"
    }
   ],
   "source": [
    "list_dict1 = dict1.keys()\n",
    "list_dict1"
   ]
  },
  {
   "cell_type": "code",
   "execution_count": 29,
   "metadata": {
    "collapsed": false
   },
   "outputs": [
    {
     "data": {
      "text/plain": [
       "dict_values(['Gil-dong, Hong', [20, 45, 30, 50], 10, 100, 78, False])"
      ]
     },
     "execution_count": 29,
     "metadata": {},
     "output_type": "execute_result"
    }
   ],
   "source": [
    "dict1.values()"
   ]
  },
  {
   "cell_type": "code",
   "execution_count": 30,
   "metadata": {
    "collapsed": false
   },
   "outputs": [
    {
     "data": {
      "text/plain": [
       "dict_items([('name', 'Gil-dong, Hong'), ('gwatam', [20, 45, 30, 50]), ('Korean', 10), ('Math', 100), ('English', 78), ('Ethics', False)])"
      ]
     },
     "execution_count": 30,
     "metadata": {},
     "output_type": "execute_result"
    }
   ],
   "source": [
    "dict1.items()"
   ]
  },
  {
   "cell_type": "markdown",
   "metadata": {},
   "source": [
    "## Set"
   ]
  },
  {
   "cell_type": "code",
   "execution_count": null,
   "metadata": {
    "collapsed": true
   },
   "outputs": [],
   "source": [
    "f a s t c m p u\n",
    "p y t h o n\n",
    "A|B = f a s t c m p u y h o n\n",
    "A&B = t p \n",
    "A-B = f a s c m u\n",
    "A(delta)B = f a s c m u y h o n"
   ]
  },
  {
   "cell_type": "code",
   "execution_count": 35,
   "metadata": {
    "collapsed": true
   },
   "outputs": [],
   "source": [
    "a = 'fastcampus'\n",
    "b = 'python'"
   ]
  },
  {
   "cell_type": "code",
   "execution_count": 36,
   "metadata": {
    "collapsed": false,
    "scrolled": true
   },
   "outputs": [
    {
     "data": {
      "text/plain": [
       "{'a', 'c', 'f', 'm', 'p', 's', 't', 'u'}"
      ]
     },
     "execution_count": 36,
     "metadata": {},
     "output_type": "execute_result"
    }
   ],
   "source": [
    "a_set = set(a)\n",
    "a_set"
   ]
  },
  {
   "cell_type": "code",
   "execution_count": 37,
   "metadata": {
    "collapsed": false
   },
   "outputs": [
    {
     "data": {
      "text/plain": [
       "{'h', 'n', 'o', 'p', 't', 'y'}"
      ]
     },
     "execution_count": 37,
     "metadata": {},
     "output_type": "execute_result"
    }
   ],
   "source": [
    "b_set = set(b)\n",
    "b_set"
   ]
  },
  {
   "cell_type": "code",
   "execution_count": 38,
   "metadata": {
    "collapsed": false
   },
   "outputs": [
    {
     "data": {
      "text/plain": [
       "{'a', 'c', 'f', 'h', 'm', 'n', 'o', 'p', 's', 't', 'u', 'y'}"
      ]
     },
     "execution_count": 38,
     "metadata": {},
     "output_type": "execute_result"
    }
   ],
   "source": [
    "a_set | b_set"
   ]
  },
  {
   "cell_type": "code",
   "execution_count": 39,
   "metadata": {
    "collapsed": false
   },
   "outputs": [
    {
     "data": {
      "text/plain": [
       "{'p', 't'}"
      ]
     },
     "execution_count": 39,
     "metadata": {},
     "output_type": "execute_result"
    }
   ],
   "source": [
    "a_set & b_set"
   ]
  },
  {
   "cell_type": "code",
   "execution_count": 40,
   "metadata": {
    "collapsed": false
   },
   "outputs": [
    {
     "data": {
      "text/plain": [
       "{'a', 'c', 'f', 'm', 's', 'u'}"
      ]
     },
     "execution_count": 40,
     "metadata": {},
     "output_type": "execute_result"
    }
   ],
   "source": [
    "a_set - b_set"
   ]
  },
  {
   "cell_type": "code",
   "execution_count": 41,
   "metadata": {
    "collapsed": false
   },
   "outputs": [
    {
     "data": {
      "text/plain": [
       "{'a', 'c', 'f', 'h', 'm', 'n', 'o', 's', 'u', 'y'}"
      ]
     },
     "execution_count": 41,
     "metadata": {},
     "output_type": "execute_result"
    }
   ],
   "source": [
    "a_set ^ b_set"
   ]
  },
  {
   "cell_type": "code",
   "execution_count": 43,
   "metadata": {
    "collapsed": false
   },
   "outputs": [],
   "source": [
    "ppap = [\"apple\",\"pen\",\"pineapple\",\"pen\"]\n",
    "ppap_set = set(ppap)"
   ]
  },
  {
   "cell_type": "code",
   "execution_count": 44,
   "metadata": {
    "collapsed": false
   },
   "outputs": [
    {
     "data": {
      "text/plain": [
       "True"
      ]
     },
     "execution_count": 44,
     "metadata": {},
     "output_type": "execute_result"
    }
   ],
   "source": [
    "\"pineapple\" in ppap_set"
   ]
  },
  {
   "cell_type": "code",
   "execution_count": 45,
   "metadata": {
    "collapsed": false
   },
   "outputs": [
    {
     "data": {
      "text/plain": [
       "False"
      ]
     },
     "execution_count": 45,
     "metadata": {},
     "output_type": "execute_result"
    }
   ],
   "source": [
    "\"banana\" in ppap_set"
   ]
  },
  {
   "cell_type": "code",
   "execution_count": 46,
   "metadata": {
    "collapsed": false
   },
   "outputs": [
    {
     "data": {
      "text/plain": [
       "[1, 2, 3, 4]"
      ]
     },
     "execution_count": 46,
     "metadata": {},
     "output_type": "execute_result"
    }
   ],
   "source": [
    "some_list = [1,2,3,4,1,2,3,1,2,1]\n",
    "some_list = list(set(some_list))\n",
    "some_list"
   ]
  },
  {
   "cell_type": "markdown",
   "metadata": {},
   "source": [
    "## Iteration, Loop"
   ]
  },
  {
   "cell_type": "code",
   "execution_count": 53,
   "metadata": {
    "collapsed": false
   },
   "outputs": [
    {
     "name": "stdout",
     "output_type": "stream",
     "text": [
      "[4, 5, 6, 7, 8, 9, 10, 1, 2, 3]\n",
      "4\n",
      "5\n",
      "6\n",
      "7\n",
      "8\n",
      "9\n",
      "10\n",
      "1\n",
      "2\n",
      "3\n"
     ]
    }
   ],
   "source": [
    "import time\n",
    "# for -> 요소 묶음을 반복 방문하면서 일을하는 반복문\n",
    "\n",
    "#for(i=0;i<10;i++){\n",
    "\n",
    "#}\n",
    "\n",
    "num_list = [1,2,3,4,5,6,7,8,9,10]\n",
    "print(num_list[3:] + num_list[:3])\n",
    "for i in num_list[3:] + num_list[:3]:\n",
    "    time.sleep(1)\n",
    "    print(i)"
   ]
  },
  {
   "cell_type": "code",
   "execution_count": 54,
   "metadata": {
    "collapsed": false
   },
   "outputs": [
    {
     "name": "stdout",
     "output_type": "stream",
     "text": [
      "f in fastcampus\n",
      "a in fastcampus\n",
      "s in fastcampus\n",
      "t in fastcampus\n",
      "c in fastcampus\n",
      "a in fastcampus\n",
      "m in fastcampus\n",
      "p in fastcampus\n",
      "u in fastcampus\n",
      "s in fastcampus\n"
     ]
    }
   ],
   "source": [
    "for c in \"fastcampus\":\n",
    "    time.sleep(1)\n",
    "    print(\"{} in fastcampus\".format(c))"
   ]
  },
  {
   "cell_type": "code",
   "execution_count": 55,
   "metadata": {
    "collapsed": false
   },
   "outputs": [
    {
     "name": "stdout",
     "output_type": "stream",
     "text": [
      "1\n",
      "2\n",
      "3\n",
      "4\n",
      "5\n",
      "6\n",
      "7\n",
      "8\n",
      "9\n",
      "10\n"
     ]
    }
   ],
   "source": [
    "for i in range(1,10+1):\n",
    "    time.sleep(1)\n",
    "    print(i)"
   ]
  },
  {
   "cell_type": "code",
   "execution_count": 56,
   "metadata": {
    "collapsed": false
   },
   "outputs": [
    {
     "name": "stdout",
     "output_type": "stream",
     "text": [
      "11\n",
      "12\n",
      "13\n",
      "14\n",
      "15\n",
      "16\n",
      "17\n",
      "18\n",
      "19\n",
      "20\n"
     ]
    }
   ],
   "source": [
    "for i in range(11,20+1):\n",
    "    time.sleep(1)\n",
    "    print(i)"
   ]
  },
  {
   "cell_type": "code",
   "execution_count": 99,
   "metadata": {
    "collapsed": false
   },
   "outputs": [
    {
     "name": "stdout",
     "output_type": "stream",
     "text": [
      "2\t2\t6\t4\t10\t6\t14\t8\t18\t10\t22\t12\t26\t14\t30\t16\t34\t18\t38\t20\t42\t22\t46\t24\t50\t26\t54\t28\t58\t30\t62\t32\t66\t34\t70\t36\t74\t38\t78\t40\t82\t42\t86\t44\t90\t46\t94\t48\t98\t50\t102\t52\t106\t54\t110\t56\t114\t58\t118\t60\t122\t62\t126\t64\t130\t66\t134\t68\t138\t70\t142\t72\t146\t74\t150\t76\t154\t78\t158\t80\t162\t82\t166\t84\t170\t86\t174\t88\t178\t90\t182\t92\t186\t94\t190\t96\t194\t98\t198\t100\t"
     ]
    }
   ],
   "source": [
    "# 1 ~ 100 -> 2의 배수일때 print()\n",
    "# 아니라면 print(*2)\n",
    "for i in range(1,100+1):\n",
    "    if i % 2 == 0:\n",
    "        print(i, end='\\t')\n",
    "    else:\n",
    "        print(i*2, end='\\t')"
   ]
  },
  {
   "cell_type": "markdown",
   "metadata": {},
   "source": [
    "# Fizzbuzz\n",
    "1 ~ 100\n",
    "- 3의 배수 : \"fizz\"\n",
    "- 5의 배수 : \"buzz\"\n",
    "- 15의 배수 : \"fizzbuzz\"\n",
    "- 나머지 : 그 숫자"
   ]
  },
  {
   "cell_type": "code",
   "execution_count": 100,
   "metadata": {
    "collapsed": false,
    "scrolled": false
   },
   "outputs": [
    {
     "name": "stdout",
     "output_type": "stream",
     "text": [
      "1\t2\tfizz\t4\tbuzz\tfizz\t7\t8\tfizz\tbuzz\t11\tfizz\t13\t14\tfizzbuzz\t16\t17\tfizz\t19\tbuzz\tfizz\t22\t23\tfizz\tbuzz\t26\tfizz\t28\t29\tfizzbuzz\t31\t32\tfizz\t34\tbuzz\tfizz\t37\t38\tfizz\tbuzz\t41\tfizz\t43\t44\tfizzbuzz\t46\t47\tfizz\t49\tbuzz\tfizz\t52\t53\tfizz\tbuzz\t56\tfizz\t58\t59\tfizzbuzz\t61\t62\tfizz\t64\tbuzz\tfizz\t67\t68\tfizz\tbuzz\t71\tfizz\t73\t74\tfizzbuzz\t76\t77\tfizz\t79\tbuzz\tfizz\t82\t83\tfizz\tbuzz\t86\tfizz\t88\t89\tfizzbuzz\t91\t92\tfizz\t94\tbuzz\tfizz\t97\t98\tfizz\tbuzz\t"
     ]
    }
   ],
   "source": [
    "for i in range(1,100+1):\n",
    "    if i % 15 == 0:\n",
    "        print(\"fizzbuzz\", end='\\t')\n",
    "    elif i % 3 == 0:\n",
    "        print(\"fizz\", end='\\t')\n",
    "    elif i % 5 == 0:\n",
    "        print(\"buzz\", end='\\t')\n",
    "    else:\n",
    "        print(i, end='\\t')"
   ]
  },
  {
   "cell_type": "code",
   "execution_count": null,
   "metadata": {
    "collapsed": false
   },
   "outputs": [],
   "source": [
    "while True:\n",
    "    print(\"hello world\")"
   ]
  },
  {
   "cell_type": "code",
   "execution_count": 101,
   "metadata": {
    "collapsed": false
   },
   "outputs": [
    {
     "name": "stdout",
     "output_type": "stream",
     "text": [
      "0\t1\t2\t3\t4\t5\t6\t7\t8\t9\t10\t11\t12\t13\t14\t15\t16\t17\t18\t19\t20\t21\t22\t23\t24\t25\t26\t27\t28\t29\t30\t31\t32\t33\t34\t35\t36\t37\t38\t39\t40\t41\t42\t43\t44\t45\t46\t47\t48\t49\t50\t51\t52\t53\t54\t55\t56\t57\t58\t59\t60\t61\t62\t63\t64\t65\t66\t67\t68\t69\t70\t71\t72\t73\t74\t75\t76\t77\t78\t79\t80\t81\t82\t83\t84\t85\t86\t87\t88\t89\t90\t91\t92\t93\t94\t95\t96\t97\t98\t99\t"
     ]
    }
   ],
   "source": [
    "i = 0\n",
    "while i < 100:\n",
    "    print(i, end='\\t')\n",
    "    i = i + 1"
   ]
  },
  {
   "cell_type": "code",
   "execution_count": 80,
   "metadata": {
    "collapsed": false
   },
   "outputs": [
    {
     "name": "stdout",
     "output_type": "stream",
     "text": [
      "What is your favorite animal? cat\n",
      "Oh, you like cat\n",
      "What is your favorite animal? koala\n",
      "Oh, you like koala\n",
      "What is your favorite animal? alligator\n",
      "Oh, you like alligator\n",
      "What is your favorite animal? exit\n"
     ]
    }
   ],
   "source": [
    "answer = \"\"\n",
    "\n",
    "while answer != \"dog\":\n",
    "    answer = input(\"What is your favorite animal? \")\n",
    "    if answer == \"exit\":\n",
    "        break\n",
    "    else:\n",
    "        print(\"Oh, you like {}\".format(answer))"
   ]
  },
  {
   "cell_type": "code",
   "execution_count": 81,
   "metadata": {
    "collapsed": false
   },
   "outputs": [
    {
     "name": "stdout",
     "output_type": "stream",
     "text": [
      "1\n",
      "2\n",
      "3\n"
     ]
    }
   ],
   "source": [
    "int_list = [1,2,3, 3.5, 4,5]\n",
    "for i in int_list:\n",
    "    if type(i) == float:\n",
    "        break\n",
    "    else:\n",
    "        print(i)"
   ]
  },
  {
   "cell_type": "code",
   "execution_count": null,
   "metadata": {
    "collapsed": true
   },
   "outputs": [],
   "source": [
    "# Refactoring Numguess\n",
    "#- iteration\n",
    "- hint(up&down)\n",
    "- limit trial\n",
    "- exception(string, boolean)\n",
    "- 근사값"
   ]
  },
  {
   "cell_type": "code",
   "execution_count": 102,
   "metadata": {
    "collapsed": false
   },
   "outputs": [
    {
     "name": "stdout",
     "output_type": "stream",
     "text": [
      "98\n",
      "Guess the number(1 to 100): 1\n",
      "Wrong!\n",
      "Guess the number(1 to 100): 2\n",
      "Wrong!\n",
      "Guess the number(1 to 100): 3\n",
      "Wrong!\n",
      "Guess the number(1 to 100): 4\n",
      "Wrong!\n",
      "Guess the number(1 to 100): 5\n",
      "Wrong!\n"
     ]
    }
   ],
   "source": [
    "# numguess with iteration\n",
    "import random\n",
    "\n",
    "\n",
    "answer = random.randint(1,100)\n",
    "print(answer)\n",
    "trial = 5\n",
    "while trial > 0: # trial != 0\n",
    "    #if trial == 0:\n",
    "    #    break\n",
    "    #else:\n",
    "    guess = int(input(\"Guess the number(1 to 100): \"))\n",
    "    if answer == guess:\n",
    "        print(\"Correct!\")\n",
    "        break\n",
    "    else:\n",
    "        print(\"Wrong!\")\n",
    "        trial = trial - 1"
   ]
  }
 ],
 "metadata": {
  "kernelspec": {
   "display_name": "Python 3",
   "language": "python",
   "name": "python3"
  },
  "language_info": {
   "codemirror_mode": {
    "name": "ipython",
    "version": 3
   },
   "file_extension": ".py",
   "mimetype": "text/x-python",
   "name": "python",
   "nbconvert_exporter": "python",
   "pygments_lexer": "ipython3",
   "version": "3.6.0"
  }
 },
 "nbformat": 4,
 "nbformat_minor": 2
}
