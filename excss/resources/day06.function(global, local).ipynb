{
 "cells": [
  {
   "cell_type": "code",
   "execution_count": 2,
   "metadata": {
    "collapsed": true,
    "deletable": true,
    "editable": true
   },
   "outputs": [],
   "source": [
    "def awesum(a,b):\n",
    "    result = 0\n",
    "    result = a + b\n",
    "    return result"
   ]
  },
  {
   "cell_type": "code",
   "execution_count": 3,
   "metadata": {
    "collapsed": false,
    "deletable": true,
    "editable": true
   },
   "outputs": [
    {
     "data": {
      "text/plain": [
       "3"
      ]
     },
     "execution_count": 3,
     "metadata": {},
     "output_type": "execute_result"
    }
   ],
   "source": [
    "awesum(1,2)"
   ]
  },
  {
   "cell_type": "code",
   "execution_count": 4,
   "metadata": {
    "collapsed": true,
    "deletable": true,
    "editable": true
   },
   "outputs": [],
   "source": [
    "def aweeeeesum(*cat):\n",
    "    result = 0\n",
    "    for i in cat:\n",
    "        result += i\n",
    "    return result"
   ]
  },
  {
   "cell_type": "code",
   "execution_count": 5,
   "metadata": {
    "collapsed": false,
    "deletable": true,
    "editable": true
   },
   "outputs": [
    {
     "data": {
      "text/plain": [
       "15"
      ]
     },
     "execution_count": 5,
     "metadata": {},
     "output_type": "execute_result"
    }
   ],
   "source": [
    "aweeeeesum(1,2,3,4,5)"
   ]
  },
  {
   "cell_type": "code",
   "execution_count": 8,
   "metadata": {
    "collapsed": true,
    "deletable": true,
    "editable": true
   },
   "outputs": [],
   "source": [
    "def name_and_locale(**kitten):\n",
    "    for key in kitten.keys():\n",
    "        print(key, kitten[key])"
   ]
  },
  {
   "cell_type": "code",
   "execution_count": 9,
   "metadata": {
    "collapsed": false,
    "deletable": true,
    "editable": true
   },
   "outputs": [
    {
     "name": "stdout",
     "output_type": "stream",
     "text": [
      "name Kim\n",
      "locale Seoul\n"
     ]
    }
   ],
   "source": [
    "name_and_locale(name=\"Kim\", locale=\"Seoul\")"
   ]
  },
  {
   "cell_type": "markdown",
   "metadata": {
    "deletable": true,
    "editable": true
   },
   "source": [
    "## Leap year\n",
    "\n",
    "1. 사용자 -> 값(연도)\n",
    "2. 조건\n",
    "    - 4로 나뉘어 떨어진다.\n",
    "    - 100으로 나뉘어 떨어지면 안된다\n",
    "    - 400으로 나뉘어 떨어진다.\n",
    "\n",
    "- Test year: 2001, 2000(L), 2004(L), 2100, 2400(L)"
   ]
  },
  {
   "cell_type": "code",
   "execution_count": 12,
   "metadata": {
    "collapsed": false,
    "deletable": true,
    "editable": true
   },
   "outputs": [
    {
     "name": "stdout",
     "output_type": "stream",
     "text": [
      "True\n",
      "almost True\n"
     ]
    }
   ],
   "source": [
    "a = 1\n",
    "b = 2\n",
    "if a == 1 and b == 2:\n",
    "    print(True)\n",
    "\n",
    "if a == 1 or b == 3:\n",
    "    print(\"almost True\")"
   ]
  },
  {
   "cell_type": "code",
   "execution_count": 28,
   "metadata": {
    "collapsed": false,
    "deletable": true,
    "editable": true
   },
   "outputs": [
    {
     "name": "stdout",
     "output_type": "stream",
     "text": [
      "Year? 2400\n",
      "Leap year\n"
     ]
    }
   ],
   "source": [
    "year = int(input(\"Year? \"))\n",
    "\n",
    "if year % 4 == 0:\n",
    "    if year % 100 == 0:\n",
    "        if year % 400 == 0:\n",
    "            print(\"Leap year\")\n",
    "        else:\n",
    "            print(\"Nope\")\n",
    "    else:\n",
    "        print(\"Leap year\")\n",
    "else:\n",
    "    print(\"Nope\")"
   ]
  },
  {
   "cell_type": "code",
   "execution_count": 34,
   "metadata": {
    "collapsed": false,
    "deletable": true,
    "editable": true
   },
   "outputs": [
    {
     "name": "stdout",
     "output_type": "stream",
     "text": [
      "Year? 2003\n",
      "Nope\n"
     ]
    }
   ],
   "source": [
    "year = int(input(\"Year? \"))\n",
    "\n",
    "if year % 4 == 0:\n",
    "    if year % 100 != 0 or year % 400 == 0:\n",
    "            print(\"Leap year\")\n",
    "    else:\n",
    "        print(\"Nope\")\n",
    "else:\n",
    "    print(\"Nope\")"
   ]
  },
  {
   "cell_type": "code",
   "execution_count": 39,
   "metadata": {
    "collapsed": false,
    "deletable": true,
    "editable": true
   },
   "outputs": [
    {
     "name": "stdout",
     "output_type": "stream",
     "text": [
      "Year? 2001\n",
      "Nope\n"
     ]
    }
   ],
   "source": [
    "year = int(input(\"Year? \"))\n",
    "\n",
    "if year % 4 == 0 and (year % 100 != 0 or year % 400 == 0):\n",
    "    print(\"Leap year\")\n",
    "else:\n",
    "    print(\"Nope\")"
   ]
  },
  {
   "cell_type": "code",
   "execution_count": 48,
   "metadata": {
    "collapsed": false,
    "deletable": true,
    "editable": true
   },
   "outputs": [],
   "source": [
    "def is_leap(year): # &&\n",
    "    if year % 4 == 0 and (year % 100 != 0 or year % 400 == 0):\n",
    "        return True\n",
    "    else:\n",
    "        return False"
   ]
  },
  {
   "cell_type": "code",
   "execution_count": 49,
   "metadata": {
    "collapsed": false,
    "deletable": true,
    "editable": true
   },
   "outputs": [
    {
     "name": "stdout",
     "output_type": "stream",
     "text": [
      "True\n",
      "False\n",
      "True\n",
      "False\n",
      "True\n"
     ]
    }
   ],
   "source": [
    "for y in [2000,2001,2004,2100,2400]:\n",
    "    print(is_leap(y))"
   ]
  },
  {
   "cell_type": "code",
   "execution_count": 50,
   "metadata": {
    "collapsed": true,
    "deletable": true,
    "editable": true
   },
   "outputs": [],
   "source": [
    "a = \"hello\"\n",
    "def global_test(a):\n",
    "    some_string = a + \"world!\"\n",
    "    return some_string"
   ]
  },
  {
   "cell_type": "code",
   "execution_count": 51,
   "metadata": {
    "collapsed": false,
    "deletable": true,
    "editable": true
   },
   "outputs": [
    {
     "data": {
      "text/plain": [
       "'helloworld!'"
      ]
     },
     "execution_count": 51,
     "metadata": {},
     "output_type": "execute_result"
    }
   ],
   "source": [
    "global_test(a)"
   ]
  },
  {
   "cell_type": "code",
   "execution_count": 54,
   "metadata": {
    "collapsed": true,
    "deletable": true,
    "editable": true
   },
   "outputs": [],
   "source": [
    "a = \"hello\"\n",
    "def global_test2(x):\n",
    "    a = x + \"world!\"\n",
    "    return a"
   ]
  },
  {
   "cell_type": "code",
   "execution_count": 55,
   "metadata": {
    "collapsed": false,
    "deletable": true,
    "editable": true
   },
   "outputs": [
    {
     "data": {
      "text/plain": [
       "'hello'"
      ]
     },
     "execution_count": 55,
     "metadata": {},
     "output_type": "execute_result"
    }
   ],
   "source": [
    "global_test2(a)\n",
    "a"
   ]
  },
  {
   "cell_type": "code",
   "execution_count": 56,
   "metadata": {
    "collapsed": true,
    "deletable": true,
    "editable": true
   },
   "outputs": [],
   "source": [
    "global_text = \"global\"\n",
    "def set_global(a):\n",
    "    global global_text\n",
    "    global_text = global_text + a"
   ]
  },
  {
   "cell_type": "code",
   "execution_count": 57,
   "metadata": {
    "collapsed": false,
    "deletable": true,
    "editable": true
   },
   "outputs": [
    {
     "data": {
      "text/plain": [
       "'globalcomplete!'"
      ]
     },
     "execution_count": 57,
     "metadata": {},
     "output_type": "execute_result"
    }
   ],
   "source": [
    "set_global(\"complete!\")\n",
    "global_text"
   ]
  },
  {
   "cell_type": "code",
   "execution_count": 58,
   "metadata": {
    "collapsed": true,
    "deletable": true,
    "editable": true
   },
   "outputs": [],
   "source": [
    "def set_global(a):\n",
    "    global ddddd\n",
    "    ddddd = ddddd + a"
   ]
  },
  {
   "cell_type": "code",
   "execution_count": 59,
   "metadata": {
    "collapsed": false,
    "deletable": true,
    "editable": true
   },
   "outputs": [
    {
     "ename": "NameError",
     "evalue": "name 'ddddd' is not defined",
     "output_type": "error",
     "traceback": [
      "\u001b[0;31m---------------------------------------------------------------------------\u001b[0m",
      "\u001b[0;31mNameError\u001b[0m                                 Traceback (most recent call last)",
      "\u001b[0;32m<ipython-input-59-42223538d29c>\u001b[0m in \u001b[0;36m<module>\u001b[0;34m()\u001b[0m\n\u001b[0;32m----> 1\u001b[0;31m \u001b[0mset_global\u001b[0m\u001b[0;34m(\u001b[0m\u001b[0;34m\"complete!\"\u001b[0m\u001b[0;34m)\u001b[0m\u001b[0;34m\u001b[0m\u001b[0m\n\u001b[0m",
      "\u001b[0;32m<ipython-input-58-be73382c7c27>\u001b[0m in \u001b[0;36mset_global\u001b[0;34m(a)\u001b[0m\n\u001b[1;32m      1\u001b[0m \u001b[0;32mdef\u001b[0m \u001b[0mset_global\u001b[0m\u001b[0;34m(\u001b[0m\u001b[0ma\u001b[0m\u001b[0;34m)\u001b[0m\u001b[0;34m:\u001b[0m\u001b[0;34m\u001b[0m\u001b[0m\n\u001b[1;32m      2\u001b[0m     \u001b[0;32mglobal\u001b[0m \u001b[0mddddd\u001b[0m\u001b[0;34m\u001b[0m\u001b[0m\n\u001b[0;32m----> 3\u001b[0;31m     \u001b[0mddddd\u001b[0m \u001b[0;34m=\u001b[0m \u001b[0mddddd\u001b[0m \u001b[0;34m+\u001b[0m \u001b[0ma\u001b[0m\u001b[0;34m\u001b[0m\u001b[0m\n\u001b[0m",
      "\u001b[0;31mNameError\u001b[0m: name 'ddddd' is not defined"
     ]
    }
   ],
   "source": [
    "set_global(\"complete!\")"
   ]
  },
  {
   "cell_type": "code",
   "execution_count": 62,
   "metadata": {
    "collapsed": true,
    "deletable": true,
    "editable": true
   },
   "outputs": [],
   "source": [
    "al_global_text = \"hello\"\n",
    "def alternative_global(some_text):\n",
    "    some_text = some_text + \"world!\"\n",
    "    return some_text"
   ]
  },
  {
   "cell_type": "code",
   "execution_count": 63,
   "metadata": {
    "collapsed": false,
    "deletable": true,
    "editable": true
   },
   "outputs": [
    {
     "data": {
      "text/plain": [
       "'helloworld!'"
      ]
     },
     "execution_count": 63,
     "metadata": {},
     "output_type": "execute_result"
    }
   ],
   "source": [
    "al_global_text = alternative_global(al_global_text)\n",
    "al_global_text"
   ]
  },
  {
   "cell_type": "markdown",
   "metadata": {
    "deletable": true,
    "editable": true
   },
   "source": [
    "## Recursive"
   ]
  },
  {
   "cell_type": "code",
   "execution_count": 64,
   "metadata": {
    "collapsed": false,
    "deletable": true,
    "editable": true
   },
   "outputs": [
    {
     "name": "stdout",
     "output_type": "stream",
     "text": [
      "How many times? 30\n"
     ]
    }
   ],
   "source": [
    "times = int(input(\"How many times? \"))"
   ]
  },
  {
   "cell_type": "code",
   "execution_count": 74,
   "metadata": {
    "collapsed": false,
    "deletable": true,
    "editable": true
   },
   "outputs": [],
   "source": [
    "def recurse_beast(a):\n",
    "    if a == 0:\n",
    "        return print(\"Recurse complete!\")\n",
    "    else:\n",
    "        print(\"효과는 강력했다!({}번 남았습니다.)\".format(a))\n",
    "        recurse_beast(a-1)"
   ]
  },
  {
   "cell_type": "code",
   "execution_count": 75,
   "metadata": {
    "collapsed": false,
    "deletable": true,
    "editable": true
   },
   "outputs": [
    {
     "name": "stdout",
     "output_type": "stream",
     "text": [
      "효과는 강력했다!(30번 남았습니다.)\n",
      "효과는 강력했다!(29번 남았습니다.)\n",
      "효과는 강력했다!(28번 남았습니다.)\n",
      "효과는 강력했다!(27번 남았습니다.)\n",
      "효과는 강력했다!(26번 남았습니다.)\n",
      "효과는 강력했다!(25번 남았습니다.)\n",
      "효과는 강력했다!(24번 남았습니다.)\n",
      "효과는 강력했다!(23번 남았습니다.)\n",
      "효과는 강력했다!(22번 남았습니다.)\n",
      "효과는 강력했다!(21번 남았습니다.)\n",
      "효과는 강력했다!(20번 남았습니다.)\n",
      "효과는 강력했다!(19번 남았습니다.)\n",
      "효과는 강력했다!(18번 남았습니다.)\n",
      "효과는 강력했다!(17번 남았습니다.)\n",
      "효과는 강력했다!(16번 남았습니다.)\n",
      "효과는 강력했다!(15번 남았습니다.)\n",
      "효과는 강력했다!(14번 남았습니다.)\n",
      "효과는 강력했다!(13번 남았습니다.)\n",
      "효과는 강력했다!(12번 남았습니다.)\n",
      "효과는 강력했다!(11번 남았습니다.)\n",
      "효과는 강력했다!(10번 남았습니다.)\n",
      "효과는 강력했다!(9번 남았습니다.)\n",
      "효과는 강력했다!(8번 남았습니다.)\n",
      "효과는 강력했다!(7번 남았습니다.)\n",
      "효과는 강력했다!(6번 남았습니다.)\n",
      "효과는 강력했다!(5번 남았습니다.)\n",
      "효과는 강력했다!(4번 남았습니다.)\n",
      "효과는 강력했다!(3번 남았습니다.)\n",
      "효과는 강력했다!(2번 남았습니다.)\n",
      "효과는 강력했다!(1번 남았습니다.)\n",
      "Recurse complete!\n"
     ]
    }
   ],
   "source": [
    "recurse_beast(times)"
   ]
  }
 ],
 "metadata": {
  "kernelspec": {
   "display_name": "Python 3",
   "language": "python",
   "name": "python3"
  },
  "language_info": {
   "codemirror_mode": {
    "name": "ipython",
    "version": 3
   },
   "file_extension": ".py",
   "mimetype": "text/x-python",
   "name": "python",
   "nbconvert_exporter": "python",
   "pygments_lexer": "ipython3",
   "version": "3.6.0"
  }
 },
 "nbformat": 4,
 "nbformat_minor": 2
}
