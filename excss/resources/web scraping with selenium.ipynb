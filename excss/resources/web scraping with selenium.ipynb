{
 "cells": [
  {
   "cell_type": "code",
   "execution_count": 1,
   "metadata": {
    "collapsed": true
   },
   "outputs": [],
   "source": [
    "from selenium import webdriver"
   ]
  },
  {
   "cell_type": "code",
   "execution_count": 4,
   "metadata": {
    "collapsed": false
   },
   "outputs": [],
   "source": [
    "ch_driver = webdriver.Chrome('/Users/ulgoon/Documents/dev/chromedriver')\n",
    "## windows W => //"
   ]
  },
  {
   "cell_type": "code",
   "execution_count": 5,
   "metadata": {
    "collapsed": true
   },
   "outputs": [],
   "source": [
    "query = \"지하철\"\n",
    "url = \"https://www.data.go.kr\"\n",
    "ch_driver.get(url)"
   ]
  },
  {
   "cell_type": "code",
   "execution_count": 6,
   "metadata": {
    "collapsed": true
   },
   "outputs": [],
   "source": [
    "input_tag = ch_driver.find_element_by_id('search-key')\n",
    "input_tag.send_keys(query)"
   ]
  },
  {
   "cell_type": "code",
   "execution_count": 7,
   "metadata": {
    "collapsed": true
   },
   "outputs": [],
   "source": [
    "from selenium.webdriver.common.keys import Keys\n",
    "input_tag.send_keys(Keys.ENTER)"
   ]
  },
  {
   "cell_type": "code",
   "execution_count": 8,
   "metadata": {
    "collapsed": true
   },
   "outputs": [],
   "source": [
    "ch_driver.execute_script(\"doIndexSearch('DATA');\")"
   ]
  },
  {
   "cell_type": "code",
   "execution_count": 12,
   "metadata": {
    "collapsed": true
   },
   "outputs": [],
   "source": [
    "destination = \"//*[@id='file-list-wrapper']/div/div[1]/a\"\n",
    "result = ch_driver.find_elements_by_xpath(destination)"
   ]
  },
  {
   "cell_type": "code",
   "execution_count": 13,
   "metadata": {
    "collapsed": false
   },
   "outputs": [
    {
     "data": {
      "text/plain": [
       "[<selenium.webdriver.remote.webelement.WebElement (session=\"82d89d7022bc6586377d600044ee5d5a\", element=\"0.96202868257494-1\")>,\n",
       " <selenium.webdriver.remote.webelement.WebElement (session=\"82d89d7022bc6586377d600044ee5d5a\", element=\"0.96202868257494-2\")>,\n",
       " <selenium.webdriver.remote.webelement.WebElement (session=\"82d89d7022bc6586377d600044ee5d5a\", element=\"0.96202868257494-3\")>,\n",
       " <selenium.webdriver.remote.webelement.WebElement (session=\"82d89d7022bc6586377d600044ee5d5a\", element=\"0.96202868257494-4\")>,\n",
       " <selenium.webdriver.remote.webelement.WebElement (session=\"82d89d7022bc6586377d600044ee5d5a\", element=\"0.96202868257494-5\")>,\n",
       " <selenium.webdriver.remote.webelement.WebElement (session=\"82d89d7022bc6586377d600044ee5d5a\", element=\"0.96202868257494-6\")>,\n",
       " <selenium.webdriver.remote.webelement.WebElement (session=\"82d89d7022bc6586377d600044ee5d5a\", element=\"0.96202868257494-7\")>,\n",
       " <selenium.webdriver.remote.webelement.WebElement (session=\"82d89d7022bc6586377d600044ee5d5a\", element=\"0.96202868257494-8\")>,\n",
       " <selenium.webdriver.remote.webelement.WebElement (session=\"82d89d7022bc6586377d600044ee5d5a\", element=\"0.96202868257494-9\")>,\n",
       " <selenium.webdriver.remote.webelement.WebElement (session=\"82d89d7022bc6586377d600044ee5d5a\", element=\"0.96202868257494-10\")>]"
      ]
     },
     "execution_count": 13,
     "metadata": {},
     "output_type": "execute_result"
    }
   ],
   "source": [
    "result"
   ]
  },
  {
   "cell_type": "code",
   "execution_count": 17,
   "metadata": {
    "collapsed": false
   },
   "outputs": [
    {
     "data": {
      "text/plain": [
       "[{'link': 'https://www.data.go.kr/dataset/15003169/fileData.do',\n",
       "  'title': '승하차인원 통계'},\n",
       " {'link': 'https://www.data.go.kr/dataset/3045275/fileData.do',\n",
       "  'title': '서울특별시 대중교통 이용 정보'},\n",
       " {'link': 'https://www.data.go.kr/dataset/3050644/fileData.do',\n",
       "  'title': '수도권전철 여객 수송실적'},\n",
       " {'link': 'https://www.data.go.kr/dataset/3045858/fileData.do',\n",
       "  'title': '부산광역시_강서구_사회조사결과 정보'},\n",
       " {'link': 'https://www.data.go.kr/dataset/3033561/fileData.do',\n",
       "  'title': '부산도시철도 역정보'},\n",
       " {'link': 'https://www.data.go.kr/dataset/3050961/fileData.do',\n",
       "  'title': '일반열차 여객 수송실적'},\n",
       " {'link': 'https://www.data.go.kr/dataset/15002503/fileData.do',\n",
       "  'title': '대구도시철도승하차인원현황'},\n",
       " {'link': 'https://www.data.go.kr/dataset/15003853/fileData.do',\n",
       "  'title': '시설현황(서울메트로)'},\n",
       " {'link': 'https://www.data.go.kr/dataset/15003159/fileData.do',\n",
       "  'title': '혼잡도 정보'},\n",
       " {'link': 'https://www.data.go.kr/dataset/15003118/fileData.do',\n",
       "  'title': '지하철 주변 주요시설 정보'}]"
      ]
     },
     "execution_count": 17,
     "metadata": {},
     "output_type": "execute_result"
    }
   ],
   "source": [
    "result_list = []\n",
    "for item in result:\n",
    "    title = item.text\n",
    "    link = item.get_attribute('href')\n",
    "    result_dict = {}\n",
    "    result_dict['title'] = title\n",
    "    result_dict['link'] = link\n",
    "    result_list.append(result_dict)\n",
    "result_list\n",
    "\n",
    "import time\n",
    "time.sleep(1)"
   ]
  },
  {
   "cell_type": "code",
   "execution_count": 22,
   "metadata": {
    "collapsed": true
   },
   "outputs": [],
   "source": []
  },
  {
   "cell_type": "code",
   "execution_count": 20,
   "metadata": {
    "collapsed": false
   },
   "outputs": [],
   "source": [
    "url = \"https://github.com/login\"\n",
    "ch_driver = webdriver.Chrome('/Users/ulgoon/Documents/dev/chromedriver')"
   ]
  },
  {
   "cell_type": "code",
   "execution_count": 21,
   "metadata": {
    "collapsed": true
   },
   "outputs": [],
   "source": [
    "ch_driver.get(url)"
   ]
  },
  {
   "cell_type": "code",
   "execution_count": 23,
   "metadata": {
    "collapsed": true
   },
   "outputs": [],
   "source": [
    "ch_driver.find_element_by_id(\"login_field\").send_keys('kingwangzzang1234')\n",
    "ch_driver.find_element_by_id('password').send_keys(password)"
   ]
  },
  {
   "cell_type": "code",
   "execution_count": 24,
   "metadata": {
    "collapsed": true
   },
   "outputs": [],
   "source": [
    "ch_driver.find_element_by_id('password').send_keys(Keys.ENTER)"
   ]
  },
  {
   "cell_type": "code",
   "execution_count": null,
   "metadata": {
    "collapsed": true
   },
   "outputs": [],
   "source": []
  }
 ],
 "metadata": {
  "kernelspec": {
   "display_name": "Python 3",
   "language": "python",
   "name": "python3"
  },
  "language_info": {
   "codemirror_mode": {
    "name": "ipython",
    "version": 3
   },
   "file_extension": ".py",
   "mimetype": "text/x-python",
   "name": "python",
   "nbconvert_exporter": "python",
   "pygments_lexer": "ipython3",
   "version": "3.6.0"
  }
 },
 "nbformat": 4,
 "nbformat_minor": 2
}
