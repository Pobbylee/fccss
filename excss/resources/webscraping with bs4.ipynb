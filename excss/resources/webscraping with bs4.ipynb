{
 "cells": [
  {
   "cell_type": "code",
   "execution_count": 1,
   "metadata": {
    "collapsed": true
   },
   "outputs": [],
   "source": [
    "import requests\n",
    "from bs4 import BeautifulSoup"
   ]
  },
  {
   "cell_type": "code",
   "execution_count": 3,
   "metadata": {
    "collapsed": false
   },
   "outputs": [],
   "source": [
    "response = requests.get('https://www.google.com')"
   ]
  },
  {
   "cell_type": "code",
   "execution_count": null,
   "metadata": {
    "collapsed": false
   },
   "outputs": [],
   "source": [
    "response.text"
   ]
  },
  {
   "cell_type": "code",
   "execution_count": 5,
   "metadata": {
    "collapsed": false
   },
   "outputs": [
    {
     "data": {
      "text/plain": [
       "<Response [200]>"
      ]
     },
     "execution_count": 5,
     "metadata": {},
     "output_type": "execute_result"
    }
   ],
   "source": [
    "response = requests.get('https://www.naver.com/')\n",
    "response"
   ]
  },
  {
   "cell_type": "code",
   "execution_count": 6,
   "metadata": {
    "collapsed": true
   },
   "outputs": [],
   "source": [
    "html = response.text\n",
    "# init Beautifulsoup\n",
    "soup = BeautifulSoup(html, 'html.parser')"
   ]
  },
  {
   "cell_type": "code",
   "execution_count": 8,
   "metadata": {
    "collapsed": false
   },
   "outputs": [],
   "source": [
    "ul = soup.find('ul', attrs={'class':'ah_l'})"
   ]
  },
  {
   "cell_type": "code",
   "execution_count": 11,
   "metadata": {
    "collapsed": false
   },
   "outputs": [],
   "source": [
    "keywords = soup.find_all('span', attrs={'class':'ah_k'})"
   ]
  },
  {
   "cell_type": "code",
   "execution_count": 12,
   "metadata": {
    "collapsed": false
   },
   "outputs": [
    {
     "name": "stdout",
     "output_type": "stream",
     "text": [
      "신비한 동물사전2\n",
      "신비한 동물사전\n",
      "이재성\n",
      "음악중심\n",
      "아이폰9\n",
      "내보험 찾아줌\n",
      "숨은보험금찾기\n",
      "테일즈런너\n",
      "갤럭시노트9\n",
      "군복무기간 계산기\n",
      "영화순위\n",
      "신과함께 1\n",
      "신과함께 2\n",
      "롯데시네마\n",
      "독전\n",
      "한게임\n",
      "피파온라인4 인벤\n",
      "메가박스\n",
      "큐넷\n",
      "마인크래프트\n",
      "신비한 동물사전2\n",
      "신비한 동물사전\n",
      "이재성\n",
      "음악중심\n",
      "아이폰9\n",
      "내보험 찾아줌\n",
      "숨은보험금찾기\n",
      "테일즈런너\n",
      "갤럭시노트9\n",
      "군복무기간 계산기\n",
      "영화순위\n",
      "신과함께 1\n",
      "신과함께 2\n",
      "롯데시네마\n",
      "독전\n",
      "한게임\n",
      "피파온라인4 인벤\n",
      "메가박스\n",
      "큐넷\n",
      "마인크래프트\n"
     ]
    }
   ],
   "source": [
    "for item in keywords:\n",
    "    print(item.text)"
   ]
  },
  {
   "cell_type": "code",
   "execution_count": 13,
   "metadata": {
    "collapsed": false
   },
   "outputs": [
    {
     "data": {
      "text/plain": [
       "{'bitcoin': 7068.26, 'ethereum': 409.01, 'ripple': 0.431344}"
      ]
     },
     "execution_count": 13,
     "metadata": {},
     "output_type": "execute_result"
    }
   ],
   "source": [
    "# https://coinmarketcap.com/currencies/\n",
    "# 에서 세가지 코인에 대한 현재값 가져와 출력\n",
    "import requests\n",
    "from bs4 import BeautifulSoup\n",
    "\n",
    "\n",
    "coin_list = ['bitcoin', 'ethereum', 'ripple']\n",
    "base_url = \"https://coinmarketcap.com/currencies/\"\n",
    "price_dict = {}\n",
    "\n",
    "for coin_name in coin_list:\n",
    "    html = requests.get(base_url + coin_name).text\n",
    "    soup = BeautifulSoup(html, \"html.parser\")\n",
    "    price = float(soup.find('span', attrs={'class':'details-panel-item--price__value'}).text.replace('$',''))\n",
    "    price_dict[coin_name] = price\n",
    "    \n",
    "price_dict"
   ]
  },
  {
   "cell_type": "code",
   "execution_count": 15,
   "metadata": {
    "collapsed": false
   },
   "outputs": [
    {
     "data": {
      "text/plain": [
       "[{'revenue': '$61.3M',\n",
       "  'score': '97%',\n",
       "  'title': 'Mission: Impossible - Fallout'},\n",
       " {'revenue': '$15.2M', 'score': '79%', 'title': 'Mamma Mia! Here We Go Again'},\n",
       " {'revenue': '$14.1M', 'score': '48%', 'title': 'Equalizer 2'},\n",
       " {'revenue': '$12.4M',\n",
       "  'score': '61%',\n",
       "  'title': 'Hotel Transylvania 3: Summer Vacation'},\n",
       " {'revenue': '$10.5M',\n",
       "  'score': '90%',\n",
       "  'title': 'Teen Titans Go! To the Movies'},\n",
       " {'revenue': '$8.9M', 'score': '88%', 'title': 'Ant-Man and the Wasp'},\n",
       " {'revenue': '$7.4M', 'score': '93%', 'title': 'Incredibles 2'},\n",
       " {'revenue': '$6.8M',\n",
       "  'score': '52%',\n",
       "  'title': 'Jurassic World: Fallen Kingdom'},\n",
       " {'revenue': '$5.4M', 'score': '48%', 'title': 'Skyscraper'},\n",
       " {'revenue': '$2.3M', 'score': '52%', 'title': 'The First Purge'}]"
      ]
     },
     "execution_count": 15,
     "metadata": {},
     "output_type": "execute_result"
    }
   ],
   "source": [
    "# https://www.rottentomatoes.com/\n",
    "# 에서 TOPBOXOFFICE 의 썩토지수, 영화이름, 매출 출력\n",
    "import requests\n",
    "from bs4 import BeautifulSoup\n",
    "\n",
    "\n",
    "url = \"https://www.rottentomatoes.com/\"\n",
    "box_office = []\n",
    "\n",
    "html = requests.get(url).text\n",
    "soup = BeautifulSoup(html, 'html.parser')\n",
    "table = soup.find('table', attrs={'id':'Top-Box-Office'})\n",
    "all_tr = table.find_all('tr')\n",
    "for item in all_tr:\n",
    "    all_td = item.find_all('td')\n",
    "    score = all_td[0].find('span', attrs={'class':'tMeterScore'}).text\n",
    "    title = all_td[1].find('a').text\n",
    "    revenue = all_td[2].find('a').text\n",
    "    box_office.append({\n",
    "        'score': score,\n",
    "        'title': title,\n",
    "        'revenue': revenue,\n",
    "    })\n",
    "\n",
    "box_office"
   ]
  },
  {
   "cell_type": "code",
   "execution_count": null,
   "metadata": {
    "collapsed": true
   },
   "outputs": [],
   "source": []
  }
 ],
 "metadata": {
  "kernelspec": {
   "display_name": "Python 3",
   "language": "python",
   "name": "python3"
  },
  "language_info": {
   "codemirror_mode": {
    "name": "ipython",
    "version": 3
   },
   "file_extension": ".py",
   "mimetype": "text/x-python",
   "name": "python",
   "nbconvert_exporter": "python",
   "pygments_lexer": "ipython3",
   "version": "3.6.0"
  }
 },
 "nbformat": 4,
 "nbformat_minor": 2
}
