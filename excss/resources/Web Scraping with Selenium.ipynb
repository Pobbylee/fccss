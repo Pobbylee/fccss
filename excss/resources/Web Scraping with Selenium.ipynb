{
 "cells": [
  {
   "cell_type": "code",
   "execution_count": 1,
   "metadata": {
    "collapsed": true
   },
   "outputs": [],
   "source": [
    "from selenium import webdriver"
   ]
  },
  {
   "cell_type": "code",
   "execution_count": 2,
   "metadata": {
    "collapsed": true
   },
   "outputs": [],
   "source": [
    "ch_driver = webdriver.Chrome('/Users/ulgoon/documents/dev/chromedriver')"
   ]
  },
  {
   "cell_type": "code",
   "execution_count": 3,
   "metadata": {
    "collapsed": true
   },
   "outputs": [],
   "source": [
    "ch_driver.get('https://www.data.go.kr/')"
   ]
  },
  {
   "cell_type": "code",
   "execution_count": 4,
   "metadata": {
    "collapsed": true
   },
   "outputs": [],
   "source": [
    "query = \"지하철\"\n",
    "input_search = ch_driver.find_element_by_id('search-key')\n",
    "input_search.send_keys(query)"
   ]
  },
  {
   "cell_type": "code",
   "execution_count": 5,
   "metadata": {
    "collapsed": true
   },
   "outputs": [],
   "source": [
    "from selenium.webdriver.common.keys import Keys\n",
    "input_search.send_keys(Keys.ENTER)"
   ]
  },
  {
   "cell_type": "code",
   "execution_count": 6,
   "metadata": {
    "collapsed": true
   },
   "outputs": [],
   "source": [
    "ch_driver.execute_script(\"doIndexSearch('DATA');\")"
   ]
  },
  {
   "cell_type": "code",
   "execution_count": 7,
   "metadata": {
    "collapsed": true
   },
   "outputs": [],
   "source": [
    "RESULTS_LOCATOR = \"//*[@id='file-list-wrapper']/div/div[1]/a\"\n",
    "results = ch_driver.find_elements_by_xpath(RESULTS_LOCATOR)"
   ]
  },
  {
   "cell_type": "code",
   "execution_count": 11,
   "metadata": {
    "collapsed": false
   },
   "outputs": [
    {
     "name": "stdout",
     "output_type": "stream",
     "text": [
      "승하차인원 통계 https://www.data.go.kr/dataset/15003169/fileData.do\n",
      "서울메트로 지하철정보 https://www.data.go.kr/dataset/3045253/fileData.do\n",
      "서울특별시 대중교통 이용 정보 https://www.data.go.kr/dataset/3045275/fileData.do\n",
      "수도권전철 여객 수송실적 https://www.data.go.kr/dataset/3050644/fileData.do\n",
      "사회조사결과 https://www.data.go.kr/dataset/3045858/fileData.do\n",
      "부산도시철도 역정보 https://www.data.go.kr/dataset/3033561/fileData.do\n",
      "일반열차 여객 수송실적 https://www.data.go.kr/dataset/3050961/fileData.do\n",
      "대구도시철도승하차인원현황 https://www.data.go.kr/dataset/15002503/fileData.do\n",
      "시설현황(서울메트로) https://www.data.go.kr/dataset/15003853/fileData.do\n",
      "혼잡도 정보 https://www.data.go.kr/dataset/15003159/fileData.do\n"
     ]
    }
   ],
   "source": [
    "for result in results:\n",
    "    content_title = result.text\n",
    "    content_link = result.get_attribute(\"href\")\n",
    "    print(content_title, content_link)"
   ]
  },
  {
   "cell_type": "code",
   "execution_count": 14,
   "metadata": {
    "collapsed": false
   },
   "outputs": [
    {
     "name": "stdout",
     "output_type": "stream",
     "text": [
      "15\n"
     ]
    }
   ],
   "source": [
    "from math import ceil\n",
    "content_num = ch_driver.find_element_by_xpath('//*[@id=\"sub-main\"]/div[4]/div[2]/div[2]/div[1]/div/div[1]/span').text\n",
    "page_num = ceil(int(content_num) / 10)\n",
    "print(page_num)"
   ]
  },
  {
   "cell_type": "code",
   "execution_count": 17,
   "metadata": {
    "collapsed": false
   },
   "outputs": [
    {
     "name": "stdout",
     "output_type": "stream",
     "text": [
      "승하차인원 통계 https://www.data.go.kr/dataset/15003169/fileData.do\n",
      "서울메트로 지하철정보 https://www.data.go.kr/dataset/3045253/fileData.do\n",
      "서울특별시 대중교통 이용 정보 https://www.data.go.kr/dataset/3045275/fileData.do\n",
      "수도권전철 여객 수송실적 https://www.data.go.kr/dataset/3050644/fileData.do\n",
      "사회조사결과 https://www.data.go.kr/dataset/3045858/fileData.do\n",
      "부산도시철도 역정보 https://www.data.go.kr/dataset/3033561/fileData.do\n",
      "일반열차 여객 수송실적 https://www.data.go.kr/dataset/3050961/fileData.do\n",
      "대구도시철도승하차인원현황 https://www.data.go.kr/dataset/15002503/fileData.do\n",
      "시설현황(서울메트로) https://www.data.go.kr/dataset/15003853/fileData.do\n",
      "혼잡도 정보 https://www.data.go.kr/dataset/15003159/fileData.do\n",
      "지하철 주변 주요시설 정보 https://www.data.go.kr/dataset/15003118/fileData.do\n",
      "수송인원 통계정보 https://www.data.go.kr/dataset/15003168/fileData.do\n",
      "철도시설관리 정보 https://www.data.go.kr/dataset/3071226/fileData.do\n",
      "국가민방위재난안전교육원 교육정보 https://www.data.go.kr/dataset/3039840/fileData.do\n",
      "대구도시철도수송수입현황 https://www.data.go.kr/dataset/3033392/fileData.do\n",
      "일반열차 여객발착 정보 https://www.data.go.kr/dataset/3049584/fileData.do\n",
      "수송인원 통계 https://www.data.go.kr/dataset/15004329/fileData.do\n",
      "서울특별시 교통 통계 https://www.data.go.kr/dataset/15014929/fileData.do\n",
      "승차권별 이용현황 https://www.data.go.kr/dataset/3071750/fileData.do\n",
      "대구도시철도 열차시각표 https://www.data.go.kr/dataset/3033376/fileData.do\n",
      "지하철 상가 임대 현황 https://www.data.go.kr/dataset/15005966/fileData.do\n",
      "한국철도표준규격 https://www.data.go.kr/dataset/3043237/fileData.do\n",
      "지하철 열차 시간표 정보 https://www.data.go.kr/dataset/15003143/fileData.do\n",
      "한국철도기술연구원 발간자료 https://www.data.go.kr/dataset/3043232/fileData.do\n",
      "한국무역보험공사 조사자료 https://www.data.go.kr/dataset/15005048/fileData.do\n",
      "수도권전철 여객발착 정보 https://www.data.go.kr/dataset/3037646/fileData.do\n",
      "공기질 정보 https://www.data.go.kr/dataset/15003170/fileData.do\n",
      "서울특별시 지하철 정보 https://www.data.go.kr/dataset/15015807/fileData.do\n",
      "서울특별시 대중교통 분실물 정보 https://www.data.go.kr/dataset/3045279/fileData.do\n",
      "지하철 역 주소 및 전화번호 https://www.data.go.kr/dataset/15001447/fileData.do\n",
      "철도차량관리 정보 https://www.data.go.kr/dataset/3071230/fileData.do\n",
      "입찰정보DB https://www.data.go.kr/dataset/3070357/fileData.do\n",
      "한전KPS 발전설비 기술개발 https://www.data.go.kr/dataset/15014562/fileData.do\n",
      "인천교통공사 지하철 승.하차 현황 https://www.data.go.kr/dataset/15010728/fileData.do\n",
      "역 운영현황 및 영업거리 https://www.data.go.kr/dataset/3050970/fileData.do\n",
      "도시철도 역간 거리 및 구간설정 정보 https://www.data.go.kr/dataset/3033564/fileData.do\n",
      "공기질측정 정보 https://www.data.go.kr/dataset/3033573/fileData.do\n",
      "지하철 연도별 교통수송 자료 https://www.data.go.kr/dataset/3040734/fileData.do\n",
      "철도전기관리 정보 https://www.data.go.kr/dataset/3071238/fileData.do\n",
      "지하철7호선 부천구간 역별 이용객 수 https://www.data.go.kr/dataset/3038817/fileData.do\n",
      "철도운전관리 정보 https://www.data.go.kr/dataset/3049862/fileData.do\n",
      "지하철 와이파이 시설 현황 https://www.data.go.kr/dataset/15003607/fileData.do\n",
      "부산도시철도 CCTV 카메라 설치현황 https://www.data.go.kr/dataset/3046976/fileData.do\n",
      "철도사고 통계 https://www.data.go.kr/dataset/3040779/fileData.do\n",
      "한국철도공사_화물 수송실적 현황 https://www.data.go.kr/dataset/3073553/fileData.do\n",
      "인천시 생활통계 정보 https://www.data.go.kr/dataset/3076414/fileData.do\n",
      "한국철도시설공단 철도건설현장정보 https://www.data.go.kr/dataset/15012855/fileData.do\n",
      "소음측정 정보 https://www.data.go.kr/dataset/3033575/fileData.do\n",
      "지하철 역정보 및 관광정보 https://www.data.go.kr/dataset/15001443/fileData.do\n",
      "서울교통공사 역명 및 영업거리 정보 https://www.data.go.kr/dataset/15003842/fileData.do\n",
      "서울특별시 공중화장실 정보 https://www.data.go.kr/dataset/3045302/fileData.do\n",
      "서울교통공사 지하철역 정보 https://www.data.go.kr/dataset/15003124/fileData.do\n",
      "지하철 CCTV 설치 현황 https://www.data.go.kr/dataset/15003606/fileData.do\n",
      "대구도시철도철도사고및운행장애통계 https://www.data.go.kr/dataset/15002093/fileData.do\n",
      "설계DB https://www.data.go.kr/dataset/3070350/fileData.do\n",
      "부산도시철도 운임정보 https://www.data.go.kr/dataset/3057225/fileData.do\n",
      "인천교통공사 열차 안내방송 https://www.data.go.kr/dataset/3040774/fileData.do\n",
      "열차내 안내방송 https://www.data.go.kr/dataset/3033580/fileData.do\n",
      "대구도시철도공사승강기현황 https://www.data.go.kr/dataset/3073003/fileData.do\n",
      "대구도시철도역세권정보 https://www.data.go.kr/dataset/15002527/fileData.do\n",
      "5678역출구별 관광지정보 https://www.data.go.kr/dataset/3045251/fileData.do\n",
      "철도유휴부지DB https://www.data.go.kr/dataset/15012349/fileData.do\n",
      "자전거 이용 확대 https://www.data.go.kr/dataset/3076528/fileData.do\n",
      "철도 여객운임 정보 https://www.data.go.kr/dataset/3049863/fileData.do\n",
      "한국철도기술연구원 연구사업정보 https://www.data.go.kr/dataset/15007784/fileData.do\n",
      "철도 할인수송실적 https://www.data.go.kr/dataset/3050959/fileData.do\n",
      "인천교통공사 지하철역사 공기질 측정결과 https://www.data.go.kr/dataset/3040775/fileData.do\n",
      "서울특별시 와이파이 정보 https://www.data.go.kr/dataset/15015842/fileData.do\n",
      "수도권 전철 역간 여객발착 수송량 https://www.data.go.kr/dataset/3037647/fileData.do\n",
      "대구도시철도역간거리산정 https://www.data.go.kr/dataset/15002510/fileData.do\n",
      "인천교통공사 열차운행시각표 https://www.data.go.kr/dataset/3040772/fileData.do\n",
      "옥외광고 동향연구 DB https://www.data.go.kr/dataset/3041414/fileData.do\n",
      "역사 내 와이파이 설치 정보 https://www.data.go.kr/dataset/3077196/fileData.do\n",
      "역사안내방송 https://www.data.go.kr/dataset/3033578/fileData.do\n",
      "대구도시철도역사별자동화설비현황 https://www.data.go.kr/dataset/15002062/fileData.do\n",
      "한국철도기술연구원 우수 기술 정보 https://www.data.go.kr/dataset/15015038/fileData.do\n",
      "대구도시철도공사와이파이설치현황 https://www.data.go.kr/dataset/15002601/fileData.do\n",
      "도시철도 설비 관리 정보 https://www.data.go.kr/dataset/3057652/fileData.do\n",
      "철도 용어해설집 https://www.data.go.kr/dataset/15004112/fileData.do\n",
      "품질안전환경DB https://www.data.go.kr/dataset/3070352/fileData.do\n",
      "철도 운수수입 정보 https://www.data.go.kr/dataset/3050960/fileData.do\n",
      "대구도시철도공사자동개집표기현황 https://www.data.go.kr/dataset/3073007/fileData.do\n",
      "국토교통부 철도통계연보 정보 https://www.data.go.kr/dataset/3043789/fileData.do\n",
      "역세권 주차장 현황 https://www.data.go.kr/dataset/15004341/fileData.do\n",
      "대구도시철도역별무료자전거운영현황 https://www.data.go.kr/dataset/15002506/fileData.do\n",
      "지하철 유실물 처리 현황 https://www.data.go.kr/dataset/3073529/fileData.do\n",
      "대구도시철도역별공기질측정정보 https://www.data.go.kr/dataset/15002094/fileData.do\n",
      "대구도시철도문화축제현황 https://www.data.go.kr/dataset/15006435/fileData.do\n",
      "인천교통공사 시설물 현황 https://www.data.go.kr/dataset/15011144/fileData.do\n",
      "대구도시철도유실물처리현황 https://www.data.go.kr/dataset/15002512/fileData.do\n",
      "대구도시철도상수도사용현황 https://www.data.go.kr/dataset/15006421/fileData.do\n",
      "한국철도기술연구원 공동활용장비목록 https://www.data.go.kr/dataset/3043242/fileData.do\n",
      "인천교통공사 전력사용 현황 https://www.data.go.kr/dataset/15011923/fileData.do\n",
      "인천교통공사_도시철도역사정보 정보 https://www.data.go.kr/dataset/15013804/fileData.do\n",
      "광주광역시도시철도공사 도시철도 역사정보 https://www.data.go.kr/dataset/15012937/fileData.do\n",
      "대구도시철도공사_도시철도운행정보 정보 https://www.data.go.kr/dataset/15016315/fileData.do\n",
      "인천교통공사_도시철도운행정보 정보 https://www.data.go.kr/dataset/15013920/fileData.do\n",
      "대구도시철도공조설비 https://www.data.go.kr/dataset/15006420/fileData.do\n",
      "인천교통공사 자전거 보관소 현황 https://www.data.go.kr/dataset/15010210/fileData.do\n",
      "인천교통공사_도시철도노선정보 정보 https://www.data.go.kr/dataset/15013798/fileData.do\n",
      "관내지하철역 현황 https://www.data.go.kr/dataset/3073280/fileData.do\n",
      "지하철문화마당 일정현황 https://www.data.go.kr/dataset/15001415/fileData.do\n",
      "대구도시철도공사_도시철도노선 https://www.data.go.kr/dataset/15018138/fileData.do\n",
      "대구도시철도공사_도시철도역사 https://www.data.go.kr/dataset/15018135/fileData.do\n",
      "광주광역시도시철도공사_도시철도 노선정보 https://www.data.go.kr/dataset/15013782/fileData.do\n",
      "대전광역시도시철도공사_도시철도운행 https://www.data.go.kr/dataset/15018665/fileData.do\n",
      "광주광역시도시철도공사_도시철도 운행정보 https://www.data.go.kr/dataset/15013783/fileData.do\n",
      "철도 간행물 https://www.data.go.kr/dataset/15004113/fileData.do\n",
      "대전광역시도시철도공사_도시철도역사 https://www.data.go.kr/dataset/15018316/fileData.do\n",
      "대전광역시도시철도공사_도시철도노선 https://www.data.go.kr/dataset/15018311/fileData.do\n",
      "경기도 의정부시_도시철도노선정보 정보 https://www.data.go.kr/dataset/15014539/fileData.do\n",
      "재난자원정보(방재물자, 응급복구장비) https://www.data.go.kr/dataset/15016519/fileData.do\n",
      "경기도 의정부시_도시철도역사정보 정보 https://www.data.go.kr/dataset/15014540/fileData.do\n",
      "역사 건축 현황 https://www.data.go.kr/dataset/15003164/fileData.do\n",
      "한국감정원 보조지수 https://www.data.go.kr/dataset/15020824/fileData.do\n",
      "인천광역시 동구 공공요금정보 https://www.data.go.kr/dataset/15008531/fileData.do\n",
      "부산광역시_도시철도운행정보 https://www.data.go.kr/dataset/15025907/fileData.do\n",
      "한국철도시설공단 교육정보 https://www.data.go.kr/dataset/15020858/fileData.do\n",
      "한국철도시설공단_국유재산 정보 https://www.data.go.kr/dataset/15024987/fileData.do\n",
      "한국철도공사_도시철도노선정보 https://www.data.go.kr/dataset/15024851/fileData.do\n",
      "한국철도시설공단 철도종합시험 정보 https://www.data.go.kr/dataset/15020859/fileData.do\n",
      "한국철도시설공단 연구 정보 https://www.data.go.kr/dataset/15020860/fileData.do\n",
      "한국철도공사_도시철도역사정보 https://www.data.go.kr/dataset/15024852/fileData.do\n",
      "경기도 시흥시_도시철도노선정보 https://www.data.go.kr/dataset/15022945/fileData.do\n",
      "경기도 시흥시_도시철도역사정보 https://www.data.go.kr/dataset/15022946/fileData.do\n",
      "서울교통공사 지하철정보 https://www.data.go.kr/dataset/15024832/fileData.do\n",
      "부산광역시_도시철도노선정보 https://www.data.go.kr/dataset/15025697/fileData.do\n",
      "한국철도공사_도시철도운행정보 https://www.data.go.kr/dataset/15025915/fileData.do\n",
      "5~8호선 역별, 시간대별(월) 승하차 인원 https://www.data.go.kr/dataset/3075314/fileData.do\n",
      "한국철도공사_화물수송 운임정보 https://www.data.go.kr/dataset/15028069/fileData.do\n",
      "서울교통공사_지하철 이용자 통계 https://www.data.go.kr/dataset/15024829/fileData.do\n",
      "한국철도공사_철도물류기지 현황 https://www.data.go.kr/dataset/15028070/fileData.do\n",
      "부산광역시_도시철도역사정보 https://www.data.go.kr/dataset/15025853/fileData.do\n",
      "지하철 수송인원 정보 https://www.data.go.kr/dataset/3077002/fileData.do\n",
      "경기도_용인시_도시철도운행정보 https://www.data.go.kr/dataset/15022697/fileData.do\n",
      "5~8호선 지하철 역명 다국어 표기 정보 https://www.data.go.kr/dataset/3075088/fileData.do\n",
      "5~8호선 역별 주소 정보 https://www.data.go.kr/dataset/3077879/fileData.do\n",
      "경기도_용인시_도시철도역사정보 https://www.data.go.kr/dataset/15022696/fileData.do\n",
      "경기도 김포시_도시철도노선정보 https://www.data.go.kr/dataset/15024096/fileData.do\n",
      "경기도_용인시_도시철도노선정보 https://www.data.go.kr/dataset/15022691/fileData.do\n",
      "지하철 수송수입금 정보 https://www.data.go.kr/dataset/3077003/fileData.do\n",
      "건축물현황 https://www.data.go.kr/dataset/3077005/fileData.do\n"
     ]
    }
   ],
   "source": [
    "def get_text_links():\n",
    "    RESULTS_LOCATOR = \"//*[@id='file-list-wrapper']/div/div[1]/a\"\n",
    "    results = ch_driver.find_elements_by_xpath(RESULTS_LOCATOR)\n",
    "    for result in results:\n",
    "        content_title = result.text\n",
    "        content_link = result.get_attribute(\"href\")\n",
    "        print(content_title, content_link)\n",
    "\n",
    "for i in range(1, page_num+1):\n",
    "    ch_driver.execute_script(\"doPaging({});\".format(str(i)))\n",
    "    get_text_links()"
   ]
  },
  {
   "cell_type": "code",
   "execution_count": null,
   "metadata": {
    "collapsed": true
   },
   "outputs": [],
   "source": []
  }
 ],
 "metadata": {
  "kernelspec": {
   "display_name": "Python 3",
   "language": "python",
   "name": "python3"
  },
  "language_info": {
   "codemirror_mode": {
    "name": "ipython",
    "version": 3
   },
   "file_extension": ".py",
   "mimetype": "text/x-python",
   "name": "python",
   "nbconvert_exporter": "python",
   "pygments_lexer": "ipython3",
   "version": "3.6.0"
  }
 },
 "nbformat": 4,
 "nbformat_minor": 2
}
